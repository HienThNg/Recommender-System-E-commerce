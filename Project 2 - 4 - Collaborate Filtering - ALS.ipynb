{
 "cells": [
  {
   "cell_type": "code",
   "execution_count": 1,
   "id": "0b47f04e",
   "metadata": {},
   "outputs": [],
   "source": [
    "# !apt-get install openjdk-8-jdk-headless -qq > /dev/null\n",
    "# !wget -q http://archive.apache.org/dist/spark/spark-2.4.0/spark-2.4.0-bin-hadoop2.7.tgz\n",
    "# !tar -xvf spark-2.4.0-bin-hadoop2.7.tgz\n",
    "# !pip install -q findspark\n",
    "# import os\n",
    "# os.environ[\"JAVA_HOME\"] = \"/usr/lib/jvm/java-8-openjdk-amd64\"\n",
    "# os.environ[\"SPARK_HOME\"] = \"/content/spark-2.4.0-bin-hadoop2.7\"\n",
    "# import findspark\n",
    "# findspark.init()"
   ]
  },
  {
   "cell_type": "code",
   "execution_count": 2,
   "id": "c451e2f4",
   "metadata": {},
   "outputs": [],
   "source": [
    "# from google.colab import drive\n",
    "# drive.mount('/content/gdrive', force_remount=True)"
   ]
  },
  {
   "cell_type": "code",
   "execution_count": 3,
   "id": "f6b18525",
   "metadata": {},
   "outputs": [],
   "source": [
    "import numpy as np\n",
    "import pandas as pd\n",
    "import matplotlib.pyplot as plt"
   ]
  },
  {
   "cell_type": "code",
   "execution_count": 4,
   "id": "3fbf322e",
   "metadata": {},
   "outputs": [],
   "source": [
    "import findspark\n",
    "findspark.init()\n",
    "from pyspark.sql import SparkSession\n",
    "from pyspark import SparkContext\n",
    "from pyspark.sql import SQLContext\n",
    "from pyspark.ml.evaluation import RegressionEvaluator\n",
    "from pyspark.ml.recommendation import ALS\n",
    "from pyspark.sql.functions import col, explode\n",
    "from pyspark.sql.functions import col, udf\n",
    "from pyspark.sql.functions import isnan, when, count, col\n",
    "from pyspark.ml.feature import StringIndexer\n",
    "from pyspark.ml import Pipeline\n",
    "from pyspark.sql.functions import col\n",
    "from pyspark.sql.types import DoubleType"
   ]
  },
  {
   "cell_type": "code",
   "execution_count": 5,
   "id": "eeb581ce",
   "metadata": {},
   "outputs": [],
   "source": [
    "spark = SparkSession.builder.appName('Recommendation_Tiki_new').getOrCreate()"
   ]
  },
  {
   "cell_type": "code",
   "execution_count": 6,
   "id": "e2f02214",
   "metadata": {},
   "outputs": [
    {
     "name": "stdout",
     "output_type": "stream",
     "text": [
      "+-----------+----------+-----------------+------+------------------+\n",
      "|customer_id|product_id|             name|rating|             title|\n",
      "+-----------+----------+-----------------+------+------------------+\n",
      "|     709310|  10001012| Lân Nguyễn Hoàng|     3|Ko dùng đc thẻ nhớ|\n",
      "|   10701688|  10001012| Nguyễn Khánh Hòa|     5|   Cực kì hài lòng|\n",
      "|   11763074|  10001012|  Toàn Phạm Khánh|     5|   Cực kì hài lòng|\n",
      "|    9909549|  10001012|Nguyen Quang Minh|     5|      Rất hài lòng|\n",
      "|    1827148|  10001012|      Phạm Bá Đức|     5|   Cực kì hài lòng|\n",
      "+-----------+----------+-----------------+------+------------------+\n",
      "only showing top 5 rows\n",
      "\n"
     ]
    }
   ],
   "source": [
    "# Load data\n",
    "reviews = spark.read.csv('Reviews.csv', inferSchema= True ,header= True)\n",
    "reviews.show(5)"
   ]
  },
  {
   "cell_type": "code",
   "execution_count": 7,
   "id": "6d2bd0f9",
   "metadata": {},
   "outputs": [
    {
     "name": "stdout",
     "output_type": "stream",
     "text": [
      "root\n",
      " |-- customer_id: string (nullable = true)\n",
      " |-- product_id: string (nullable = true)\n",
      " |-- name: string (nullable = true)\n",
      " |-- rating: integer (nullable = true)\n",
      " |-- title: string (nullable = true)\n",
      "\n"
     ]
    }
   ],
   "source": [
    "reviews.printSchema()"
   ]
  },
  {
   "cell_type": "code",
   "execution_count": 8,
   "id": "70db11ce",
   "metadata": {},
   "outputs": [
    {
     "data": {
      "text/plain": [
       "293153"
      ]
     },
     "execution_count": 8,
     "metadata": {},
     "output_type": "execute_result"
    }
   ],
   "source": [
    "reviews.count()"
   ]
  },
  {
   "cell_type": "code",
   "execution_count": 9,
   "id": "06ea509e",
   "metadata": {},
   "outputs": [
    {
     "name": "stdout",
     "output_type": "stream",
     "text": [
      "+-----------+----------+------+\n",
      "|customer_id|product_id|rating|\n",
      "+-----------+----------+------+\n",
      "|     709310|  10001012|     3|\n",
      "|   10701688|  10001012|     5|\n",
      "|   11763074|  10001012|     5|\n",
      "|    9909549|  10001012|     5|\n",
      "|    1827148|  10001012|     5|\n",
      "+-----------+----------+------+\n",
      "only showing top 5 rows\n",
      "\n"
     ]
    }
   ],
   "source": [
    "reviews_sub = reviews.select(['customer_id', 'product_id', 'rating'])\n",
    "reviews_sub.show(5)"
   ]
  },
  {
   "cell_type": "code",
   "execution_count": 10,
   "id": "c418e62c",
   "metadata": {},
   "outputs": [
    {
     "name": "stdout",
     "output_type": "stream",
     "text": [
      "root\n",
      " |-- customer_id: string (nullable = true)\n",
      " |-- product_id: string (nullable = true)\n",
      " |-- rating: integer (nullable = true)\n",
      "\n"
     ]
    }
   ],
   "source": [
    "reviews_sub.printSchema()"
   ]
  },
  {
   "cell_type": "code",
   "execution_count": 11,
   "id": "14bc8d11",
   "metadata": {},
   "outputs": [
    {
     "name": "stdout",
     "output_type": "stream",
     "text": [
      "root\n",
      " |-- customer_id: double (nullable = true)\n",
      " |-- product_id: double (nullable = true)\n",
      " |-- rating: integer (nullable = true)\n",
      "\n"
     ]
    }
   ],
   "source": [
    "# chuyển kiểu dữ liệu của customer_id và product_id về kiểu số\n",
    "reviews_sub = reviews_sub.withColumn(\"customer_id\", reviews_sub[\"customer_id\"].cast(DoubleType()))\n",
    "reviews_sub = reviews_sub.withColumn(\"product_id\", reviews_sub[\"product_id\"].cast(DoubleType()))\n",
    "reviews_sub.printSchema()"
   ]
  },
  {
   "cell_type": "code",
   "execution_count": 12,
   "id": "7b9b6374",
   "metadata": {},
   "outputs": [
    {
     "data": {
      "text/html": [
       "<div>\n",
       "<style scoped>\n",
       "    .dataframe tbody tr th:only-of-type {\n",
       "        vertical-align: middle;\n",
       "    }\n",
       "\n",
       "    .dataframe tbody tr th {\n",
       "        vertical-align: top;\n",
       "    }\n",
       "\n",
       "    .dataframe thead th {\n",
       "        text-align: right;\n",
       "    }\n",
       "</style>\n",
       "<table border=\"1\" class=\"dataframe\">\n",
       "  <thead>\n",
       "    <tr style=\"text-align: right;\">\n",
       "      <th></th>\n",
       "      <th>0</th>\n",
       "    </tr>\n",
       "  </thead>\n",
       "  <tbody>\n",
       "    <tr>\n",
       "      <th>customer_id</th>\n",
       "      <td>0</td>\n",
       "    </tr>\n",
       "    <tr>\n",
       "      <th>product_id</th>\n",
       "      <td>0</td>\n",
       "    </tr>\n",
       "    <tr>\n",
       "      <th>rating</th>\n",
       "      <td>0</td>\n",
       "    </tr>\n",
       "  </tbody>\n",
       "</table>\n",
       "</div>"
      ],
      "text/plain": [
       "             0\n",
       "customer_id  0\n",
       "product_id   0\n",
       "rating       0"
      ]
     },
     "execution_count": 12,
     "metadata": {},
     "output_type": "execute_result"
    }
   ],
   "source": [
    "# Check NaN Values\n",
    "reviews_sub.select([count(when(isnan(c), c)).alias(c) \n",
    "                 for c in reviews_sub.columns]).toPandas().T\n",
    "# dữ liệu không có giá trị NaN"
   ]
  },
  {
   "cell_type": "code",
   "execution_count": 13,
   "id": "6ad6cf47",
   "metadata": {},
   "outputs": [
    {
     "data": {
      "text/html": [
       "<div>\n",
       "<style scoped>\n",
       "    .dataframe tbody tr th:only-of-type {\n",
       "        vertical-align: middle;\n",
       "    }\n",
       "\n",
       "    .dataframe tbody tr th {\n",
       "        vertical-align: top;\n",
       "    }\n",
       "\n",
       "    .dataframe thead th {\n",
       "        text-align: right;\n",
       "    }\n",
       "</style>\n",
       "<table border=\"1\" class=\"dataframe\">\n",
       "  <thead>\n",
       "    <tr style=\"text-align: right;\">\n",
       "      <th></th>\n",
       "      <th>0</th>\n",
       "    </tr>\n",
       "  </thead>\n",
       "  <tbody>\n",
       "    <tr>\n",
       "      <th>customer_id</th>\n",
       "      <td>32</td>\n",
       "    </tr>\n",
       "    <tr>\n",
       "      <th>product_id</th>\n",
       "      <td>32</td>\n",
       "    </tr>\n",
       "    <tr>\n",
       "      <th>rating</th>\n",
       "      <td>62</td>\n",
       "    </tr>\n",
       "  </tbody>\n",
       "</table>\n",
       "</div>"
      ],
      "text/plain": [
       "              0\n",
       "customer_id  32\n",
       "product_id   32\n",
       "rating       62"
      ]
     },
     "execution_count": 13,
     "metadata": {},
     "output_type": "execute_result"
    }
   ],
   "source": [
    "# Check Null Values\n",
    "reviews_sub.select([count(when(col(c).isNull(), c)).alias(c) for c in\n",
    " reviews_sub.columns]).toPandas().T"
   ]
  },
  {
   "cell_type": "code",
   "execution_count": 14,
   "id": "f46c9d31",
   "metadata": {},
   "outputs": [],
   "source": [
    "# loại bỏ Null\n",
    "reviews_sub = reviews_sub.dropna()"
   ]
  },
  {
   "cell_type": "code",
   "execution_count": 15,
   "id": "9b3043fb",
   "metadata": {},
   "outputs": [
    {
     "data": {
      "text/html": [
       "<div>\n",
       "<style scoped>\n",
       "    .dataframe tbody tr th:only-of-type {\n",
       "        vertical-align: middle;\n",
       "    }\n",
       "\n",
       "    .dataframe tbody tr th {\n",
       "        vertical-align: top;\n",
       "    }\n",
       "\n",
       "    .dataframe thead th {\n",
       "        text-align: right;\n",
       "    }\n",
       "</style>\n",
       "<table border=\"1\" class=\"dataframe\">\n",
       "  <thead>\n",
       "    <tr style=\"text-align: right;\">\n",
       "      <th></th>\n",
       "      <th>0</th>\n",
       "    </tr>\n",
       "  </thead>\n",
       "  <tbody>\n",
       "    <tr>\n",
       "      <th>customer_id</th>\n",
       "      <td>0</td>\n",
       "    </tr>\n",
       "    <tr>\n",
       "      <th>product_id</th>\n",
       "      <td>0</td>\n",
       "    </tr>\n",
       "    <tr>\n",
       "      <th>rating</th>\n",
       "      <td>0</td>\n",
       "    </tr>\n",
       "  </tbody>\n",
       "</table>\n",
       "</div>"
      ],
      "text/plain": [
       "             0\n",
       "customer_id  0\n",
       "product_id   0\n",
       "rating       0"
      ]
     },
     "execution_count": 15,
     "metadata": {},
     "output_type": "execute_result"
    }
   ],
   "source": [
    "# Check Null Values\n",
    "reviews_sub.select([count(when(col(c).isNull(), c)).alias(c) for c in\n",
    " reviews_sub.columns]).toPandas().T\n",
    "# không còn giá trị null"
   ]
  },
  {
   "cell_type": "code",
   "execution_count": 16,
   "id": "c68ba189",
   "metadata": {},
   "outputs": [
    {
     "data": {
      "text/plain": [
       "293153"
      ]
     },
     "execution_count": 16,
     "metadata": {},
     "output_type": "execute_result"
    }
   ],
   "source": [
    "reviews.count()"
   ]
  },
  {
   "cell_type": "code",
   "execution_count": 17,
   "id": "61f15589",
   "metadata": {},
   "outputs": [],
   "source": [
    "# Distinct\n",
    "customer_id = reviews_sub.select('customer_id').distinct().count()\n",
    "product_id = reviews_sub.select('product_id').distinct().count()\n",
    "numerator = reviews_sub.count()"
   ]
  },
  {
   "cell_type": "code",
   "execution_count": 18,
   "id": "25e71439",
   "metadata": {},
   "outputs": [
    {
     "data": {
      "text/plain": [
       "293091"
      ]
     },
     "metadata": {},
     "output_type": "display_data"
    },
    {
     "data": {
      "text/plain": [
       "212644"
      ]
     },
     "metadata": {},
     "output_type": "display_data"
    },
    {
     "data": {
      "text/plain": [
       "4171"
      ]
     },
     "metadata": {},
     "output_type": "display_data"
    }
   ],
   "source": [
    "display(numerator, customer_id, product_id)"
   ]
  },
  {
   "cell_type": "code",
   "execution_count": 19,
   "id": "51dd1600",
   "metadata": {},
   "outputs": [
    {
     "data": {
      "text/plain": [
       "886938124"
      ]
     },
     "execution_count": 19,
     "metadata": {},
     "output_type": "execute_result"
    }
   ],
   "source": [
    "# Number of rating matrix could contain if no empty cells\n",
    "denominator = customer_id * product_id\n",
    "denominator"
   ]
  },
  {
   "cell_type": "code",
   "execution_count": 20,
   "id": "8fedde24",
   "metadata": {},
   "outputs": [
    {
     "name": "stdout",
     "output_type": "stream",
     "text": [
      "Sparsity:\n"
     ]
    },
    {
     "data": {
      "text/plain": [
       "(None, 0.9996695474102768)"
      ]
     },
     "execution_count": 20,
     "metadata": {},
     "output_type": "execute_result"
    }
   ],
   "source": [
    "# calculating sparsity\n",
    "sparsity = 1 - (numerator*1.0/denominator)\n",
    "print('Sparsity:'), sparsity"
   ]
  },
  {
   "cell_type": "code",
   "execution_count": 21,
   "id": "5f726399",
   "metadata": {},
   "outputs": [],
   "source": [
    "# Split the data to training and testing sets\n",
    "(training, test) = reviews_sub.randomSplit([0.8, 0.2])"
   ]
  },
  {
   "cell_type": "markdown",
   "id": "eafca093",
   "metadata": {},
   "source": [
    "## Build model & Evaluation"
   ]
  },
  {
   "cell_type": "code",
   "execution_count": 22,
   "id": "0f55c786",
   "metadata": {},
   "outputs": [],
   "source": [
    "als = ALS(maxIter=18, # Số lần lặp, defaults = 10\n",
    "          regParam=0.4, # Mong muốn độ lỗi ít nhất có thể\n",
    "          rank= 25,\n",
    "          userCol='customer_id',\n",
    "          itemCol='product_id',\n",
    "          ratingCol='rating',\n",
    "          coldStartStrategy='drop', # Không có giá trị NAN\n",
    "          nonnegative=True) # Không chấp nhận đề xuất là giá trị âm\n",
    "model = als.fit(training)"
   ]
  },
  {
   "cell_type": "code",
   "execution_count": 23,
   "id": "f52648c2",
   "metadata": {},
   "outputs": [],
   "source": [
    "# evaluate the model by computing the RMSE on the test data\n",
    "predictions = model.transform(test)"
   ]
  },
  {
   "cell_type": "code",
   "execution_count": 24,
   "id": "e0a08724",
   "metadata": {},
   "outputs": [
    {
     "name": "stdout",
     "output_type": "stream",
     "text": [
      "+-----------+-----------+------+----------+\n",
      "|customer_id| product_id|rating|prediction|\n",
      "+-----------+-----------+------+----------+\n",
      "|  1236658.0|7.1896003E7|     4| 3.0756898|\n",
      "|  8057326.0|  2774881.0|     5|  4.159753|\n",
      "|1.3676965E7|  2069769.0|     4|   2.55822|\n",
      "|1.5262963E7|  2774881.0|     4| 3.7336826|\n",
      "|1.7728182E7|  2774881.0|     5|  4.163211|\n",
      "+-----------+-----------+------+----------+\n",
      "only showing top 5 rows\n",
      "\n"
     ]
    }
   ],
   "source": [
    "predictions.show(5)"
   ]
  },
  {
   "cell_type": "code",
   "execution_count": 25,
   "id": "90f2f1a1",
   "metadata": {},
   "outputs": [
    {
     "name": "stdout",
     "output_type": "stream",
     "text": [
      "Root-mean-square error = 1.1519259907016253\n"
     ]
    }
   ],
   "source": [
    "evaluator = RegressionEvaluator(metricName='rmse',\n",
    "                                labelCol='rating',\n",
    "                                predictionCol='prediction')\n",
    "rmse = evaluator.evaluate(predictions)\n",
    "print('Root-mean-square error = ' + str(rmse))"
   ]
  },
  {
   "cell_type": "code",
   "execution_count": 26,
   "id": "d325ae48",
   "metadata": {},
   "outputs": [],
   "source": [
    "# # save model \n",
    "# model.save('Tiki_Recommendater_System')"
   ]
  },
  {
   "cell_type": "markdown",
   "id": "f7d05761",
   "metadata": {},
   "source": [
    "## Providing Recommendations: for all customers"
   ]
  },
  {
   "cell_type": "code",
   "execution_count": 27,
   "id": "a84cae6b",
   "metadata": {},
   "outputs": [],
   "source": [
    "# get 20 recommendations with have highest rating\n",
    "cus_recs = model.recommendForAllUsers(5)"
   ]
  },
  {
   "cell_type": "code",
   "execution_count": 28,
   "id": "36df5ec2",
   "metadata": {},
   "outputs": [
    {
     "name": "stdout",
     "output_type": "stream",
     "text": [
      "+-----------+-------------------------------------------------------------------------------------------------------------------+\n",
      "|customer_id|recommendations                                                                                                    |\n",
      "+-----------+-------------------------------------------------------------------------------------------------------------------+\n",
      "|471        |[{76732229, 5.126761}, {71293311, 5.1080756}, {67216147, 4.924155}, {73844240, 4.851091}, {32198166, 4.8349047}]   |\n",
      "|588        |[{76732229, 4.141814}, {71293311, 4.0359387}, {67216147, 3.9531202}, {73788531, 3.914941}, {69196844, 3.902448}]   |\n",
      "|808        |[{76732229, 4.008161}, {71293311, 3.991675}, {46134868, 3.8947685}, {67216147, 3.8520577}, {73830099, 3.7972593}]  |\n",
      "|833        |[{76732229, 5.060788}, {71293311, 5.0395975}, {67216147, 4.870337}, {65948026, 4.791558}, {73844240, 4.7876053}]   |\n",
      "|1468       |[{76732229, 2.0203059}, {71293311, 1.9951096}, {67216147, 1.9210422}, {52341716, 1.9167706}, {65948026, 1.8938916}]|\n",
      "|2572       |[{71293311, 2.0201104}, {76732229, 2.0018501}, {76186679, 1.9568341}, {46134868, 1.954136}, {45075149, 1.9500973}] |\n",
      "|2833       |[{76732229, 5.0833516}, {71293311, 5.0133014}, {46134868, 4.8228555}, {67216147, 4.796417}, {65948026, 4.744662}]  |\n",
      "|2914       |[{76732229, 5.241903}, {71293311, 5.1849637}, {67216147, 5.003666}, {73844240, 4.964168}, {65948026, 4.937531}]    |\n",
      "|3377       |[{76732229, 5.0333014}, {71293311, 4.9866033}, {67216147, 4.809872}, {65948026, 4.7673745}, {73844240, 4.739224}]  |\n",
      "|3698       |[{71293311, 5.194391}, {76732229, 5.164281}, {67216147, 4.9572906}, {46134868, 4.903916}, {73844240, 4.891427}]    |\n",
      "+-----------+-------------------------------------------------------------------------------------------------------------------+\n",
      "only showing top 10 rows\n",
      "\n"
     ]
    }
   ],
   "source": [
    "cus_recs.show(10, False)"
   ]
  },
  {
   "cell_type": "code",
   "execution_count": 29,
   "id": "ab0afd39",
   "metadata": {},
   "outputs": [
    {
     "data": {
      "text/plain": [
       "177805"
      ]
     },
     "execution_count": 29,
     "metadata": {},
     "output_type": "execute_result"
    }
   ],
   "source": [
    "cus_recs.count()"
   ]
  },
  {
   "cell_type": "code",
   "execution_count": 30,
   "id": "af1c2dfb",
   "metadata": {},
   "outputs": [
    {
     "name": "stdout",
     "output_type": "stream",
     "text": [
      "Row(customer_id=471, recommendations=[Row(product_id=76732229, rating=5.126760959625244), Row(product_id=71293311, rating=5.1080756187438965), Row(product_id=67216147, rating=4.924155235290527), Row(product_id=73844240, rating=4.851090908050537), Row(product_id=32198166, rating=4.834904670715332)])\n",
      "\n",
      "\n",
      "Row(customer_id=588, recommendations=[Row(product_id=76732229, rating=4.141814231872559), Row(product_id=71293311, rating=4.035938739776611), Row(product_id=67216147, rating=3.953120231628418), Row(product_id=73788531, rating=3.9149410724639893), Row(product_id=69196844, rating=3.9024479389190674)])\n",
      "\n",
      "\n",
      "Row(customer_id=808, recommendations=[Row(product_id=76732229, rating=4.0081610679626465), Row(product_id=71293311, rating=3.9916749000549316), Row(product_id=46134868, rating=3.894768476486206), Row(product_id=67216147, rating=3.852057695388794), Row(product_id=73830099, rating=3.7972593307495117)])\n",
      "\n",
      "\n",
      "Row(customer_id=833, recommendations=[Row(product_id=76732229, rating=5.060788154602051), Row(product_id=71293311, rating=5.039597511291504), Row(product_id=67216147, rating=4.870337009429932), Row(product_id=65948026, rating=4.791557788848877), Row(product_id=73844240, rating=4.787605285644531)])\n",
      "\n",
      "\n",
      "Row(customer_id=1468, recommendations=[Row(product_id=76732229, rating=2.020305871963501), Row(product_id=71293311, rating=1.9951095581054688), Row(product_id=67216147, rating=1.9210422039031982), Row(product_id=52341716, rating=1.916770577430725), Row(product_id=65948026, rating=1.8938915729522705)])\n",
      "\n",
      "\n"
     ]
    }
   ],
   "source": [
    "for cus in cus_recs.head(5):\n",
    "    print(cus)\n",
    "    print('\\n')"
   ]
  },
  {
   "cell_type": "code",
   "execution_count": 31,
   "id": "dd11b165",
   "metadata": {},
   "outputs": [
    {
     "name": "stdout",
     "output_type": "stream",
     "text": [
      "+-----------+--------------------+--------------+----------+\n",
      "|customer_id|                 col|product_id_rec|rating_rec|\n",
      "+-----------+--------------------+--------------+----------+\n",
      "|        471|{76732229, 5.126761}|      76732229|  5.126761|\n",
      "|        471|{71293311, 5.1080...|      71293311| 5.1080756|\n",
      "|        471|{67216147, 4.924155}|      67216147|  4.924155|\n",
      "|        471|{73844240, 4.851091}|      73844240|  4.851091|\n",
      "|        471|{32198166, 4.8349...|      32198166| 4.8349047|\n",
      "|        588|{76732229, 4.141814}|      76732229|  4.141814|\n",
      "|        588|{71293311, 4.0359...|      71293311| 4.0359387|\n",
      "|        588|{67216147, 3.9531...|      67216147| 3.9531202|\n",
      "|        588|{73788531, 3.914941}|      73788531|  3.914941|\n",
      "|        588|{69196844, 3.902448}|      69196844|  3.902448|\n",
      "|        808|{76732229, 4.008161}|      76732229|  4.008161|\n",
      "|        808|{71293311, 3.991675}|      71293311|  3.991675|\n",
      "|        808|{46134868, 3.8947...|      46134868| 3.8947685|\n",
      "|        808|{67216147, 3.8520...|      67216147| 3.8520577|\n",
      "|        808|{73830099, 3.7972...|      73830099| 3.7972593|\n",
      "|        833|{76732229, 5.060788}|      76732229|  5.060788|\n",
      "|        833|{71293311, 5.0395...|      71293311| 5.0395975|\n",
      "|        833|{67216147, 4.870337}|      67216147|  4.870337|\n",
      "|        833|{65948026, 4.791558}|      65948026|  4.791558|\n",
      "|        833|{73844240, 4.7876...|      73844240| 4.7876053|\n",
      "+-----------+--------------------+--------------+----------+\n",
      "only showing top 20 rows\n",
      "\n"
     ]
    }
   ],
   "source": [
    "recommendation = cus_recs.select(cus_recs.customer_id, explode(cus_recs.recommendations))\n",
    "recommendation = recommendation.withColumn('product_id_rec', recommendation.col.getField(\"product_id\"))\\\n",
    "                  .withColumn('rating_rec', recommendation.col.getField(\"rating\"))\n",
    "\n",
    "recommendation.show()"
   ]
  },
  {
   "cell_type": "code",
   "execution_count": 32,
   "id": "49b0838a",
   "metadata": {},
   "outputs": [
    {
     "data": {
      "text/html": [
       "<div>\n",
       "<style scoped>\n",
       "    .dataframe tbody tr th:only-of-type {\n",
       "        vertical-align: middle;\n",
       "    }\n",
       "\n",
       "    .dataframe tbody tr th {\n",
       "        vertical-align: top;\n",
       "    }\n",
       "\n",
       "    .dataframe thead th {\n",
       "        text-align: right;\n",
       "    }\n",
       "</style>\n",
       "<table border=\"1\" class=\"dataframe\">\n",
       "  <thead>\n",
       "    <tr style=\"text-align: right;\">\n",
       "      <th></th>\n",
       "      <th>customer_id</th>\n",
       "      <th>col</th>\n",
       "      <th>product_id_rec</th>\n",
       "      <th>rating_rec</th>\n",
       "    </tr>\n",
       "  </thead>\n",
       "  <tbody>\n",
       "    <tr>\n",
       "      <th>0</th>\n",
       "      <td>471</td>\n",
       "      <td>(76732229, 5.126760959625244)</td>\n",
       "      <td>76732229</td>\n",
       "      <td>5.126761</td>\n",
       "    </tr>\n",
       "    <tr>\n",
       "      <th>1</th>\n",
       "      <td>471</td>\n",
       "      <td>(71293311, 5.1080756187438965)</td>\n",
       "      <td>71293311</td>\n",
       "      <td>5.108076</td>\n",
       "    </tr>\n",
       "    <tr>\n",
       "      <th>2</th>\n",
       "      <td>471</td>\n",
       "      <td>(67216147, 4.924155235290527)</td>\n",
       "      <td>67216147</td>\n",
       "      <td>4.924155</td>\n",
       "    </tr>\n",
       "    <tr>\n",
       "      <th>3</th>\n",
       "      <td>471</td>\n",
       "      <td>(73844240, 4.851090908050537)</td>\n",
       "      <td>73844240</td>\n",
       "      <td>4.851091</td>\n",
       "    </tr>\n",
       "    <tr>\n",
       "      <th>4</th>\n",
       "      <td>471</td>\n",
       "      <td>(32198166, 4.834904670715332)</td>\n",
       "      <td>32198166</td>\n",
       "      <td>4.834905</td>\n",
       "    </tr>\n",
       "  </tbody>\n",
       "</table>\n",
       "</div>"
      ],
      "text/plain": [
       "   customer_id                             col  product_id_rec  rating_rec\n",
       "0          471   (76732229, 5.126760959625244)        76732229    5.126761\n",
       "1          471  (71293311, 5.1080756187438965)        71293311    5.108076\n",
       "2          471   (67216147, 4.924155235290527)        67216147    4.924155\n",
       "3          471   (73844240, 4.851090908050537)        73844240    4.851091\n",
       "4          471   (32198166, 4.834904670715332)        32198166    4.834905"
      ]
     },
     "execution_count": 32,
     "metadata": {},
     "output_type": "execute_result"
    }
   ],
   "source": [
    "recommendation = recommendation.toPandas()\n",
    "recommendation.head()"
   ]
  },
  {
   "cell_type": "markdown",
   "id": "1465ceda",
   "metadata": {},
   "source": [
    "### Kết hợp product_id với item_id của product data"
   ]
  },
  {
   "cell_type": "code",
   "execution_count": 33,
   "id": "fb1f954f",
   "metadata": {},
   "outputs": [
    {
     "data": {
      "text/html": [
       "<div>\n",
       "<style scoped>\n",
       "    .dataframe tbody tr th:only-of-type {\n",
       "        vertical-align: middle;\n",
       "    }\n",
       "\n",
       "    .dataframe tbody tr th {\n",
       "        vertical-align: top;\n",
       "    }\n",
       "\n",
       "    .dataframe thead th {\n",
       "        text-align: right;\n",
       "    }\n",
       "</style>\n",
       "<table border=\"1\" class=\"dataframe\">\n",
       "  <thead>\n",
       "    <tr style=\"text-align: right;\">\n",
       "      <th></th>\n",
       "      <th>item_id</th>\n",
       "      <th>name</th>\n",
       "      <th>description</th>\n",
       "      <th>rating</th>\n",
       "      <th>price</th>\n",
       "      <th>list_price</th>\n",
       "      <th>brand</th>\n",
       "      <th>group</th>\n",
       "      <th>url</th>\n",
       "      <th>image</th>\n",
       "    </tr>\n",
       "  </thead>\n",
       "  <tbody>\n",
       "    <tr>\n",
       "      <th>0</th>\n",
       "      <td>48102821</td>\n",
       "      <td>tai bluetooth inpods cảm biến vân chống màu sắ...</td>\n",
       "      <td>dung pin thời gian pin thời gian nhạc liên tục...</td>\n",
       "      <td>4.0</td>\n",
       "      <td>77000</td>\n",
       "      <td>300000</td>\n",
       "      <td>OEM</td>\n",
       "      <td>Thiết Bị Số - Phụ Kiện Số/Thiết Bị Âm Thanh và...</td>\n",
       "      <td>https://tai-nghe-bluetooth-inpods-12-cam-bien-...</td>\n",
       "      <td>https://salt.tikicdn.com/cache/280x280/ts/prod...</td>\n",
       "    </tr>\n",
       "    <tr>\n",
       "      <th>1</th>\n",
       "      <td>52333193</td>\n",
       "      <td>tai bluetooth không dây true wireless dock sạc...</td>\n",
       "      <td>dung pin thời gian pin thời gian nhạc thời gia...</td>\n",
       "      <td>4.5</td>\n",
       "      <td>132000</td>\n",
       "      <td>750000</td>\n",
       "      <td>OEM</td>\n",
       "      <td>Thiết Bị Số - Phụ Kiện Số/Thiết Bị Âm Thanh và...</td>\n",
       "      <td>https://tai-nghe-bluetooth-khong-day-f9-true-w...</td>\n",
       "      <td>https://salt.tikicdn.com/cache/280x280/ts/prod...</td>\n",
       "    </tr>\n",
       "    <tr>\n",
       "      <th>2</th>\n",
       "      <td>299461</td>\n",
       "      <td>chuột không dây logitech silent hàng hãng</td>\n",
       "      <td>logitech độ phân giải quang học model lưu kéo ...</td>\n",
       "      <td>4.8</td>\n",
       "      <td>299000</td>\n",
       "      <td>399000</td>\n",
       "      <td>Logitech</td>\n",
       "      <td>Thiết Bị Số - Phụ Kiện Số/Phụ kiện máy tính và...</td>\n",
       "      <td>https://chuot-khong-day-logitech-m331-silent-p...</td>\n",
       "      <td>https://salt.tikicdn.com/cache/280x280/media/c...</td>\n",
       "    </tr>\n",
       "    <tr>\n",
       "      <th>3</th>\n",
       "      <td>57440329</td>\n",
       "      <td>loa bluetooth kiêm đồng hồ báo thức robot hàng...</td>\n",
       "      <td>acome indonesia trung quốc sku indonesia tình ...</td>\n",
       "      <td>4.7</td>\n",
       "      <td>149000</td>\n",
       "      <td>350000</td>\n",
       "      <td>Acome</td>\n",
       "      <td>Thiết Bị Số - Phụ Kiện Số/Thiết Bị Âm Thanh và...</td>\n",
       "      <td>https://loa-bluetooth-5-0-kiem-dong-ho-bao-thu...</td>\n",
       "      <td>https://salt.tikicdn.com/cache/280x280/ts/prod...</td>\n",
       "    </tr>\n",
       "    <tr>\n",
       "      <th>4</th>\n",
       "      <td>38458616</td>\n",
       "      <td>tai bluetooth apple airpods pro true wireless ...</td>\n",
       "      <td>apple mỹ tai mm hộp sạc mm model tai g hộp sạc...</td>\n",
       "      <td>4.8</td>\n",
       "      <td>5090000</td>\n",
       "      <td>8500000</td>\n",
       "      <td>Apple</td>\n",
       "      <td>Thiết Bị Số - Phụ Kiện Số/Thiết Bị Âm Thanh và...</td>\n",
       "      <td>https://tai-nghe-bluetooth-apple-airpods-pro-t...</td>\n",
       "      <td>https://salt.tikicdn.com/cache/280x280/ts/prod...</td>\n",
       "    </tr>\n",
       "  </tbody>\n",
       "</table>\n",
       "</div>"
      ],
      "text/plain": [
       "    item_id                                               name  \\\n",
       "0  48102821  tai bluetooth inpods cảm biến vân chống màu sắ...   \n",
       "1  52333193  tai bluetooth không dây true wireless dock sạc...   \n",
       "2    299461          chuột không dây logitech silent hàng hãng   \n",
       "3  57440329  loa bluetooth kiêm đồng hồ báo thức robot hàng...   \n",
       "4  38458616  tai bluetooth apple airpods pro true wireless ...   \n",
       "\n",
       "                                         description  rating    price  \\\n",
       "0  dung pin thời gian pin thời gian nhạc liên tục...     4.0    77000   \n",
       "1  dung pin thời gian pin thời gian nhạc thời gia...     4.5   132000   \n",
       "2  logitech độ phân giải quang học model lưu kéo ...     4.8   299000   \n",
       "3  acome indonesia trung quốc sku indonesia tình ...     4.7   149000   \n",
       "4  apple mỹ tai mm hộp sạc mm model tai g hộp sạc...     4.8  5090000   \n",
       "\n",
       "   list_price     brand                                              group  \\\n",
       "0      300000       OEM  Thiết Bị Số - Phụ Kiện Số/Thiết Bị Âm Thanh và...   \n",
       "1      750000       OEM  Thiết Bị Số - Phụ Kiện Số/Thiết Bị Âm Thanh và...   \n",
       "2      399000  Logitech  Thiết Bị Số - Phụ Kiện Số/Phụ kiện máy tính và...   \n",
       "3      350000     Acome  Thiết Bị Số - Phụ Kiện Số/Thiết Bị Âm Thanh và...   \n",
       "4     8500000     Apple  Thiết Bị Số - Phụ Kiện Số/Thiết Bị Âm Thanh và...   \n",
       "\n",
       "                                                 url  \\\n",
       "0  https://tai-nghe-bluetooth-inpods-12-cam-bien-...   \n",
       "1  https://tai-nghe-bluetooth-khong-day-f9-true-w...   \n",
       "2  https://chuot-khong-day-logitech-m331-silent-p...   \n",
       "3  https://loa-bluetooth-5-0-kiem-dong-ho-bao-thu...   \n",
       "4  https://tai-nghe-bluetooth-apple-airpods-pro-t...   \n",
       "\n",
       "                                               image  \n",
       "0  https://salt.tikicdn.com/cache/280x280/ts/prod...  \n",
       "1  https://salt.tikicdn.com/cache/280x280/ts/prod...  \n",
       "2  https://salt.tikicdn.com/cache/280x280/media/c...  \n",
       "3  https://salt.tikicdn.com/cache/280x280/ts/prod...  \n",
       "4  https://salt.tikicdn.com/cache/280x280/ts/prod...  "
      ]
     },
     "execution_count": 33,
     "metadata": {},
     "output_type": "execute_result"
    }
   ],
   "source": [
    "products = pd.read_csv('Products.csv')\n",
    "products.head()"
   ]
  },
  {
   "cell_type": "code",
   "execution_count": 35,
   "id": "d75ca783",
   "metadata": {},
   "outputs": [
    {
     "data": {
      "text/html": [
       "<div>\n",
       "<style scoped>\n",
       "    .dataframe tbody tr th:only-of-type {\n",
       "        vertical-align: middle;\n",
       "    }\n",
       "\n",
       "    .dataframe tbody tr th {\n",
       "        vertical-align: top;\n",
       "    }\n",
       "\n",
       "    .dataframe thead th {\n",
       "        text-align: right;\n",
       "    }\n",
       "</style>\n",
       "<table border=\"1\" class=\"dataframe\">\n",
       "  <thead>\n",
       "    <tr style=\"text-align: right;\">\n",
       "      <th></th>\n",
       "      <th>customer_id</th>\n",
       "      <th>col</th>\n",
       "      <th>product_id_rec</th>\n",
       "      <th>rating_rec</th>\n",
       "      <th>item_id</th>\n",
       "      <th>name</th>\n",
       "      <th>description</th>\n",
       "      <th>rating</th>\n",
       "      <th>price</th>\n",
       "      <th>list_price</th>\n",
       "      <th>brand</th>\n",
       "      <th>group</th>\n",
       "      <th>url</th>\n",
       "      <th>image</th>\n",
       "    </tr>\n",
       "  </thead>\n",
       "  <tbody>\n",
       "    <tr>\n",
       "      <th>0</th>\n",
       "      <td>471</td>\n",
       "      <td>(76732229, 5.126760959625244)</td>\n",
       "      <td>76732229</td>\n",
       "      <td>5.126761</td>\n",
       "      <td>76732229</td>\n",
       "      <td>máy nóng ariston sbs vn</td>\n",
       "      <td>bơm trợ lực ariston công suất điện áp cxnxs x ...</td>\n",
       "      <td>5.0</td>\n",
       "      <td>2739000</td>\n",
       "      <td>4590000</td>\n",
       "      <td>Ariston</td>\n",
       "      <td>Điện Tử - Điện Lạnh/Máy nước nóng</td>\n",
       "      <td>https://may-nuoc-nong-ariston-smc45pe-sbs-vn-4...</td>\n",
       "      <td>https://salt.tikicdn.com/cache/280x280/ts/prod...</td>\n",
       "    </tr>\n",
       "    <tr>\n",
       "      <th>1</th>\n",
       "      <td>471</td>\n",
       "      <td>(71293311, 5.1080756187438965)</td>\n",
       "      <td>71293311</td>\n",
       "      <td>5.108076</td>\n",
       "      <td>71293311</td>\n",
       "      <td>trọn camera ip wifi ezviz cube full hd thẻ hik...</td>\n",
       "      <td>ezviz trung quốc trung quốc sku ca m biê n pro...</td>\n",
       "      <td>5.0</td>\n",
       "      <td>599000</td>\n",
       "      <td>899000</td>\n",
       "      <td>EZVIZ</td>\n",
       "      <td>Máy Ảnh - Máy Quay Phim/Camera Giám Sát/Camera IP</td>\n",
       "      <td>https://tron-bo-camera-ip-wifi-ezviz-cube-c1c-...</td>\n",
       "      <td>https://salt.tikicdn.com/cache/280x280/ts/prod...</td>\n",
       "    </tr>\n",
       "    <tr>\n",
       "      <th>2</th>\n",
       "      <td>471</td>\n",
       "      <td>(67216147, 4.924155235290527)</td>\n",
       "      <td>67216147</td>\n",
       "      <td>4.924155</td>\n",
       "      <td>67216147</td>\n",
       "      <td>máy đọc sách kindle paperwhite refurbished hàn...</td>\n",
       "      <td>thời gian pin tuần amazon mỹ thời gian sạc hỗ ...</td>\n",
       "      <td>0.0</td>\n",
       "      <td>2379000</td>\n",
       "      <td>2990000</td>\n",
       "      <td>Amazon</td>\n",
       "      <td>Điện Thoại - Máy Tính Bảng/Máy đọc sách</td>\n",
       "      <td>https://may-doc-sach-kindle-paperwhite-2018-7t...</td>\n",
       "      <td>https://salt.tikicdn.com/cache/280x280/ts/prod...</td>\n",
       "    </tr>\n",
       "    <tr>\n",
       "      <th>3</th>\n",
       "      <td>471</td>\n",
       "      <td>(73844240, 4.851090908050537)</td>\n",
       "      <td>73844240</td>\n",
       "      <td>4.851091</td>\n",
       "      <td>73844240</td>\n",
       "      <td>case máy mik nexus m hàng hãng</td>\n",
       "      <td>nexus đài loan chất liệu nhựa thép l w h model...</td>\n",
       "      <td>5.0</td>\n",
       "      <td>590000</td>\n",
       "      <td>690000</td>\n",
       "      <td>Nexus</td>\n",
       "      <td>Laptop - Máy Vi Tính - Linh kiện/Linh Kiện Máy...</td>\n",
       "      <td>https://case-may-tinh-mik-nexus-m-hang-chinh-h...</td>\n",
       "      <td>https://salt.tikicdn.com/cache/280x280/ts/prod...</td>\n",
       "    </tr>\n",
       "    <tr>\n",
       "      <th>4</th>\n",
       "      <td>471</td>\n",
       "      <td>(32198166, 4.834904670715332)</td>\n",
       "      <td>32198166</td>\n",
       "      <td>4.834905</td>\n",
       "      <td>32198166</td>\n",
       "      <td>ổ cứng di động wd my book usb hàng nhập khẩu</td>\n",
       "      <td>wd dung ổ cứng sku sản phẩm wd my book inch gi...</td>\n",
       "      <td>4.3</td>\n",
       "      <td>3000000</td>\n",
       "      <td>4320000</td>\n",
       "      <td>WD</td>\n",
       "      <td>Laptop - Máy Vi Tính - Linh kiện/Thiết Bị Lưu ...</td>\n",
       "      <td>https://o-cung-di-dong-wd-my-book-4tb-3-5-usb-...</td>\n",
       "      <td>https://salt.tikicdn.com/cache/280x280/ts/prod...</td>\n",
       "    </tr>\n",
       "  </tbody>\n",
       "</table>\n",
       "</div>"
      ],
      "text/plain": [
       "   customer_id                             col  product_id_rec  rating_rec  \\\n",
       "0          471   (76732229, 5.126760959625244)        76732229    5.126761   \n",
       "1          471  (71293311, 5.1080756187438965)        71293311    5.108076   \n",
       "2          471   (67216147, 4.924155235290527)        67216147    4.924155   \n",
       "3          471   (73844240, 4.851090908050537)        73844240    4.851091   \n",
       "4          471   (32198166, 4.834904670715332)        32198166    4.834905   \n",
       "\n",
       "    item_id                                               name  \\\n",
       "0  76732229                            máy nóng ariston sbs vn   \n",
       "1  71293311  trọn camera ip wifi ezviz cube full hd thẻ hik...   \n",
       "2  67216147  máy đọc sách kindle paperwhite refurbished hàn...   \n",
       "3  73844240                     case máy mik nexus m hàng hãng   \n",
       "4  32198166       ổ cứng di động wd my book usb hàng nhập khẩu   \n",
       "\n",
       "                                         description  rating    price  \\\n",
       "0  bơm trợ lực ariston công suất điện áp cxnxs x ...     5.0  2739000   \n",
       "1  ezviz trung quốc trung quốc sku ca m biê n pro...     5.0   599000   \n",
       "2  thời gian pin tuần amazon mỹ thời gian sạc hỗ ...     0.0  2379000   \n",
       "3  nexus đài loan chất liệu nhựa thép l w h model...     5.0   590000   \n",
       "4  wd dung ổ cứng sku sản phẩm wd my book inch gi...     4.3  3000000   \n",
       "\n",
       "   list_price    brand                                              group  \\\n",
       "0     4590000  Ariston                  Điện Tử - Điện Lạnh/Máy nước nóng   \n",
       "1      899000    EZVIZ  Máy Ảnh - Máy Quay Phim/Camera Giám Sát/Camera IP   \n",
       "2     2990000   Amazon            Điện Thoại - Máy Tính Bảng/Máy đọc sách   \n",
       "3      690000    Nexus  Laptop - Máy Vi Tính - Linh kiện/Linh Kiện Máy...   \n",
       "4     4320000       WD  Laptop - Máy Vi Tính - Linh kiện/Thiết Bị Lưu ...   \n",
       "\n",
       "                                                 url  \\\n",
       "0  https://may-nuoc-nong-ariston-smc45pe-sbs-vn-4...   \n",
       "1  https://tron-bo-camera-ip-wifi-ezviz-cube-c1c-...   \n",
       "2  https://may-doc-sach-kindle-paperwhite-2018-7t...   \n",
       "3  https://case-may-tinh-mik-nexus-m-hang-chinh-h...   \n",
       "4  https://o-cung-di-dong-wd-my-book-4tb-3-5-usb-...   \n",
       "\n",
       "                                               image  \n",
       "0  https://salt.tikicdn.com/cache/280x280/ts/prod...  \n",
       "1  https://salt.tikicdn.com/cache/280x280/ts/prod...  \n",
       "2  https://salt.tikicdn.com/cache/280x280/ts/prod...  \n",
       "3  https://salt.tikicdn.com/cache/280x280/ts/prod...  \n",
       "4  https://salt.tikicdn.com/cache/280x280/ts/prod...  "
      ]
     },
     "execution_count": 35,
     "metadata": {},
     "output_type": "execute_result"
    }
   ],
   "source": [
    "data_recommendation = pd.merge(recommendation, products, how='left', left_on='product_id_rec', right_on='item_id')\n",
    "data_recommendation.head()"
   ]
  },
  {
   "cell_type": "markdown",
   "id": "e379591d",
   "metadata": {},
   "source": [
    "## Give recommendation for any customer"
   ]
  },
  {
   "cell_type": "code",
   "execution_count": 36,
   "id": "a2f79609",
   "metadata": {},
   "outputs": [
    {
     "data": {
      "text/html": [
       "<div>\n",
       "<style scoped>\n",
       "    .dataframe tbody tr th:only-of-type {\n",
       "        vertical-align: middle;\n",
       "    }\n",
       "\n",
       "    .dataframe tbody tr th {\n",
       "        vertical-align: top;\n",
       "    }\n",
       "\n",
       "    .dataframe thead th {\n",
       "        text-align: right;\n",
       "    }\n",
       "</style>\n",
       "<table border=\"1\" class=\"dataframe\">\n",
       "  <thead>\n",
       "    <tr style=\"text-align: right;\">\n",
       "      <th></th>\n",
       "      <th>customer_id</th>\n",
       "      <th>col</th>\n",
       "      <th>product_id_rec</th>\n",
       "      <th>rating_rec</th>\n",
       "      <th>item_id</th>\n",
       "      <th>name</th>\n",
       "      <th>description</th>\n",
       "      <th>rating</th>\n",
       "      <th>price</th>\n",
       "      <th>list_price</th>\n",
       "      <th>brand</th>\n",
       "      <th>group</th>\n",
       "      <th>url</th>\n",
       "      <th>image</th>\n",
       "    </tr>\n",
       "  </thead>\n",
       "  <tbody>\n",
       "    <tr>\n",
       "      <th>56975</th>\n",
       "      <td>709310</td>\n",
       "      <td>(76732229, 2.918865203857422)</td>\n",
       "      <td>76732229</td>\n",
       "      <td>2.918865</td>\n",
       "      <td>76732229</td>\n",
       "      <td>máy nóng ariston sbs vn</td>\n",
       "      <td>bơm trợ lực ariston công suất điện áp cxnxs x ...</td>\n",
       "      <td>5.0</td>\n",
       "      <td>2739000</td>\n",
       "      <td>4590000</td>\n",
       "      <td>Ariston</td>\n",
       "      <td>Điện Tử - Điện Lạnh/Máy nước nóng</td>\n",
       "      <td>https://may-nuoc-nong-ariston-smc45pe-sbs-vn-4...</td>\n",
       "      <td>https://salt.tikicdn.com/cache/280x280/ts/prod...</td>\n",
       "    </tr>\n",
       "    <tr>\n",
       "      <th>56976</th>\n",
       "      <td>709310</td>\n",
       "      <td>(71293311, 2.8983428478240967)</td>\n",
       "      <td>71293311</td>\n",
       "      <td>2.898343</td>\n",
       "      <td>71293311</td>\n",
       "      <td>trọn camera ip wifi ezviz cube full hd thẻ hik...</td>\n",
       "      <td>ezviz trung quốc trung quốc sku ca m biê n pro...</td>\n",
       "      <td>5.0</td>\n",
       "      <td>599000</td>\n",
       "      <td>899000</td>\n",
       "      <td>EZVIZ</td>\n",
       "      <td>Máy Ảnh - Máy Quay Phim/Camera Giám Sát/Camera IP</td>\n",
       "      <td>https://tron-bo-camera-ip-wifi-ezviz-cube-c1c-...</td>\n",
       "      <td>https://salt.tikicdn.com/cache/280x280/ts/prod...</td>\n",
       "    </tr>\n",
       "    <tr>\n",
       "      <th>56977</th>\n",
       "      <td>709310</td>\n",
       "      <td>(67216147, 2.839005470275879)</td>\n",
       "      <td>67216147</td>\n",
       "      <td>2.839005</td>\n",
       "      <td>67216147</td>\n",
       "      <td>máy đọc sách kindle paperwhite refurbished hàn...</td>\n",
       "      <td>thời gian pin tuần amazon mỹ thời gian sạc hỗ ...</td>\n",
       "      <td>0.0</td>\n",
       "      <td>2379000</td>\n",
       "      <td>2990000</td>\n",
       "      <td>Amazon</td>\n",
       "      <td>Điện Thoại - Máy Tính Bảng/Máy đọc sách</td>\n",
       "      <td>https://may-doc-sach-kindle-paperwhite-2018-7t...</td>\n",
       "      <td>https://salt.tikicdn.com/cache/280x280/ts/prod...</td>\n",
       "    </tr>\n",
       "    <tr>\n",
       "      <th>56978</th>\n",
       "      <td>709310</td>\n",
       "      <td>(73844240, 2.8042171001434326)</td>\n",
       "      <td>73844240</td>\n",
       "      <td>2.804217</td>\n",
       "      <td>73844240</td>\n",
       "      <td>case máy mik nexus m hàng hãng</td>\n",
       "      <td>nexus đài loan chất liệu nhựa thép l w h model...</td>\n",
       "      <td>5.0</td>\n",
       "      <td>590000</td>\n",
       "      <td>690000</td>\n",
       "      <td>Nexus</td>\n",
       "      <td>Laptop - Máy Vi Tính - Linh kiện/Linh Kiện Máy...</td>\n",
       "      <td>https://case-may-tinh-mik-nexus-m-hang-chinh-h...</td>\n",
       "      <td>https://salt.tikicdn.com/cache/280x280/ts/prod...</td>\n",
       "    </tr>\n",
       "    <tr>\n",
       "      <th>56979</th>\n",
       "      <td>709310</td>\n",
       "      <td>(10001012, 2.7574002742767334)</td>\n",
       "      <td>10001012</td>\n",
       "      <td>2.757400</td>\n",
       "      <td>10001012</td>\n",
       "      <td>camera ip wifi trời ezviz cs hàng hãng</td>\n",
       "      <td>ezviz khối gói hàng kg đóng gói cm x x model e...</td>\n",
       "      <td>5.0</td>\n",
       "      <td>789000</td>\n",
       "      <td>1746000</td>\n",
       "      <td>EZVIZ</td>\n",
       "      <td>Máy Ảnh - Máy Quay Phim/Camera Giám Sát/Camera IP</td>\n",
       "      <td>https://camera-ip-wifi-ngoai-troi-ezviz-cs-cv3...</td>\n",
       "      <td>https://salt.tikicdn.com/cache/280x280/ts/prod...</td>\n",
       "    </tr>\n",
       "  </tbody>\n",
       "</table>\n",
       "</div>"
      ],
      "text/plain": [
       "       customer_id                             col  product_id_rec  \\\n",
       "56975       709310   (76732229, 2.918865203857422)        76732229   \n",
       "56976       709310  (71293311, 2.8983428478240967)        71293311   \n",
       "56977       709310   (67216147, 2.839005470275879)        67216147   \n",
       "56978       709310  (73844240, 2.8042171001434326)        73844240   \n",
       "56979       709310  (10001012, 2.7574002742767334)        10001012   \n",
       "\n",
       "       rating_rec   item_id  \\\n",
       "56975    2.918865  76732229   \n",
       "56976    2.898343  71293311   \n",
       "56977    2.839005  67216147   \n",
       "56978    2.804217  73844240   \n",
       "56979    2.757400  10001012   \n",
       "\n",
       "                                                    name  \\\n",
       "56975                            máy nóng ariston sbs vn   \n",
       "56976  trọn camera ip wifi ezviz cube full hd thẻ hik...   \n",
       "56977  máy đọc sách kindle paperwhite refurbished hàn...   \n",
       "56978                     case máy mik nexus m hàng hãng   \n",
       "56979             camera ip wifi trời ezviz cs hàng hãng   \n",
       "\n",
       "                                             description  rating    price  \\\n",
       "56975  bơm trợ lực ariston công suất điện áp cxnxs x ...     5.0  2739000   \n",
       "56976  ezviz trung quốc trung quốc sku ca m biê n pro...     5.0   599000   \n",
       "56977  thời gian pin tuần amazon mỹ thời gian sạc hỗ ...     0.0  2379000   \n",
       "56978  nexus đài loan chất liệu nhựa thép l w h model...     5.0   590000   \n",
       "56979  ezviz khối gói hàng kg đóng gói cm x x model e...     5.0   789000   \n",
       "\n",
       "       list_price    brand                                              group  \\\n",
       "56975     4590000  Ariston                  Điện Tử - Điện Lạnh/Máy nước nóng   \n",
       "56976      899000    EZVIZ  Máy Ảnh - Máy Quay Phim/Camera Giám Sát/Camera IP   \n",
       "56977     2990000   Amazon            Điện Thoại - Máy Tính Bảng/Máy đọc sách   \n",
       "56978      690000    Nexus  Laptop - Máy Vi Tính - Linh kiện/Linh Kiện Máy...   \n",
       "56979     1746000    EZVIZ  Máy Ảnh - Máy Quay Phim/Camera Giám Sát/Camera IP   \n",
       "\n",
       "                                                     url  \\\n",
       "56975  https://may-nuoc-nong-ariston-smc45pe-sbs-vn-4...   \n",
       "56976  https://tron-bo-camera-ip-wifi-ezviz-cube-c1c-...   \n",
       "56977  https://may-doc-sach-kindle-paperwhite-2018-7t...   \n",
       "56978  https://case-may-tinh-mik-nexus-m-hang-chinh-h...   \n",
       "56979  https://camera-ip-wifi-ngoai-troi-ezviz-cs-cv3...   \n",
       "\n",
       "                                                   image  \n",
       "56975  https://salt.tikicdn.com/cache/280x280/ts/prod...  \n",
       "56976  https://salt.tikicdn.com/cache/280x280/ts/prod...  \n",
       "56977  https://salt.tikicdn.com/cache/280x280/ts/prod...  \n",
       "56978  https://salt.tikicdn.com/cache/280x280/ts/prod...  \n",
       "56979  https://salt.tikicdn.com/cache/280x280/ts/prod...  "
      ]
     },
     "execution_count": 36,
     "metadata": {},
     "output_type": "execute_result"
    }
   ],
   "source": [
    "# Give recommender for a user\n",
    "customer_id = 709310\n",
    "\n",
    "results = data_recommendation[data_recommendation['customer_id'] == customer_id]\n",
    "results"
   ]
  },
  {
   "cell_type": "code",
   "execution_count": null,
   "id": "a14d422d",
   "metadata": {},
   "outputs": [],
   "source": [
    "# # Give recommender for a user\n",
    "# customer_id = 709310\n",
    "\n",
    "# results = cus_recs.filter(cus_recs['customer_id'] == customer_id)\n",
    "# results.show(truncate = False)"
   ]
  },
  {
   "cell_type": "code",
   "execution_count": null,
   "id": "d1b082ec",
   "metadata": {},
   "outputs": [],
   "source": [
    "# result = []\n",
    "# for user in results.collect():\n",
    "#     lst = []\n",
    "#     for row in user['recommendations']:\n",
    "#         print(row)\n",
    "#         row_f = reviews_sub.filter(reviews_sub.product_id == row['product_id'])  \n",
    "#         lst.append((row['product_id'], row['rating']))\n",
    "#     dic_user_rec = {'customer_id' : user.customer_id, 'recommendations' :lst}\n",
    "#     result = dic_user_rec"
   ]
  },
  {
   "cell_type": "code",
   "execution_count": null,
   "id": "3f3f894b",
   "metadata": {},
   "outputs": [],
   "source": [
    "# results.printSchema()"
   ]
  },
  {
   "cell_type": "code",
   "execution_count": null,
   "id": "d017828e",
   "metadata": {},
   "outputs": [],
   "source": [
    "# results.show(2)"
   ]
  },
  {
   "cell_type": "code",
   "execution_count": null,
   "id": "f627e9b8",
   "metadata": {},
   "outputs": [],
   "source": [
    "# # Chuẩn hóa dữ liệu cho user\n",
    "# from pyspark.sql.functions import col, explode\n",
    "\n",
    "# results = results.select(results.customer_id, explode(results.recommendations))\n",
    "# results = results.withColumn('product_id', results.col.getField(\"product_id\"))\\\n",
    "#                   .withColumn('rating', results.col.getField(\"rating\"))\n",
    "\n",
    "# results.show()"
   ]
  },
  {
   "cell_type": "code",
   "execution_count": null,
   "id": "cf5ae9fa",
   "metadata": {},
   "outputs": [],
   "source": [
    "# Lọc đề xuất trên ngưỡng\n",
    "# results.filter(results.rating >= 3.0).show()"
   ]
  },
  {
   "cell_type": "code",
   "execution_count": null,
   "id": "488bc57e",
   "metadata": {},
   "outputs": [],
   "source": [
    "# Save\n",
    "# cus_recs.write.parquet('user_recs.parquet', mode='ovewrite') # Có product_id và rating tương ứng với user_id bất kì"
   ]
  }
 ],
 "metadata": {
  "kernelspec": {
   "display_name": "Python 3 (ipykernel)",
   "language": "python",
   "name": "python3"
  },
  "language_info": {
   "codemirror_mode": {
    "name": "ipython",
    "version": 3
   },
   "file_extension": ".py",
   "mimetype": "text/x-python",
   "name": "python",
   "nbconvert_exporter": "python",
   "pygments_lexer": "ipython3",
   "version": "3.9.16"
  }
 },
 "nbformat": 4,
 "nbformat_minor": 5
}
