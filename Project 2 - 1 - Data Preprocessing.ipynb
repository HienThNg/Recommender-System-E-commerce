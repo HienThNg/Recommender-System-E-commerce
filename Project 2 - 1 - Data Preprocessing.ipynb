{
 "cells": [
  {
   "cell_type": "markdown",
   "id": "03ffaed9",
   "metadata": {},
   "source": [
    "## Business Objective\n",
    "\n",
    "* Dữ liệu được lấy trên một trong những trang web về thương mại điện tử lớn nhất Việt Nam.\n",
    "\n",
    "* Trên trang này đã triển khai nhiều tiện ích hỗ trợ nâng cao trải nghiệm người dùng và họ muốn xây dựng nhiều tiện ích hơn nữa.\n",
    "\n",
    "\n",
    "# Triển khai dự án\n",
    "\n",
    "## Bước 1: Business Understanding\n",
    "\n",
    "### Dựa vào yêu cầu nói trên => xác định vấn đề:\n",
    "\n",
    "- Chưa có hệ thống Recommendation System \n",
    "- => Mục tiêu/ vấn đề: Xây dựng Recommendation System cho một hoặc một số nhóm hàng hóa giúp đề xuất và gợi ý cho người dùng/ khách hàng. => Xây dựng các mô hình đề xuất:\n",
    "\n",
    "        ▪ Content-based filtering\n",
    "        ▪ Collaborative filtering\n",
    "\n",
    "## Bước 2: Data Understanding/ Acquire\n",
    "\n",
    "### Từ mục tiêu/ vấn đề đã xác định: xem xét các dữ liệu cần thiết\n",
    "\n",
    "Dữ liệu được cung cấp sẵn gồm có các tập tin: ProductRaw.csv, ReviewRaw.csv chứa thông tin sản phẩm, review và rating cho các sản phẩm thuộc các nhóm hàng hóa như Mobile_Tablet, TV_Audio, Laptop, Camera, Accessory.\n",
    "\n",
    "## Bước 3: Data preparation/ Prepare\n",
    "\n",
    "## Bước 4&5: Modeling & Evaluation/ Analyze & Report\n",
    "\n",
    "#### Tập trung giải quyết hai bài toán\n",
    "\n",
    "* Bài toán 1: Đề xuất người dùng với Content based filtering \n",
    "\n",
    "* Bài toán 2: Đề xuất người dùng với Collaborative filtering\n",
    "\n",
    "## Bước 6: Deployment & Feedback/ Act\n",
    "\n",
    "#### Triển khai Recommender System lên website thương mại điện tử và theo dõi kết quả\n",
    "\n",
    "\n",
    "# Data Preprocessing\n"
   ]
  },
  {
   "cell_type": "code",
   "execution_count": 1,
   "id": "8293f901",
   "metadata": {},
   "outputs": [],
   "source": [
    "import numpy as np\n",
    "import pandas as pd\n",
    "import seaborn as sns\n",
    "import re\n",
    "import emoji"
   ]
  },
  {
   "cell_type": "code",
   "execution_count": 2,
   "id": "f433ed21",
   "metadata": {},
   "outputs": [],
   "source": [
    "STOP_WORD_FILE = 'vietnamese-stopwords.txt'"
   ]
  },
  {
   "cell_type": "code",
   "execution_count": 3,
   "id": "13465085",
   "metadata": {},
   "outputs": [],
   "source": [
    "with open(STOP_WORD_FILE, 'r', encoding='utf-8') as file:\n",
    "    stop_words = file.read()\n",
    "\n",
    "stop_words = stop_words.split('\\n')"
   ]
  },
  {
   "cell_type": "markdown",
   "id": "fd4a0342",
   "metadata": {},
   "source": [
    "## Product data"
   ]
  },
  {
   "cell_type": "code",
   "execution_count": 4,
   "id": "e5822070",
   "metadata": {},
   "outputs": [
    {
     "data": {
      "text/html": [
       "<div>\n",
       "<style scoped>\n",
       "    .dataframe tbody tr th:only-of-type {\n",
       "        vertical-align: middle;\n",
       "    }\n",
       "\n",
       "    .dataframe tbody tr th {\n",
       "        vertical-align: top;\n",
       "    }\n",
       "\n",
       "    .dataframe thead th {\n",
       "        text-align: right;\n",
       "    }\n",
       "</style>\n",
       "<table border=\"1\" class=\"dataframe\">\n",
       "  <thead>\n",
       "    <tr style=\"text-align: right;\">\n",
       "      <th></th>\n",
       "      <th>item_id</th>\n",
       "      <th>name</th>\n",
       "      <th>description</th>\n",
       "      <th>rating</th>\n",
       "      <th>price</th>\n",
       "      <th>list_price</th>\n",
       "      <th>brand</th>\n",
       "      <th>group</th>\n",
       "      <th>url</th>\n",
       "      <th>image</th>\n",
       "    </tr>\n",
       "  </thead>\n",
       "  <tbody>\n",
       "    <tr>\n",
       "      <th>0</th>\n",
       "      <td>48102821</td>\n",
       "      <td>Tai nghe Bluetooth Inpods 12 - Cảm biến vân ta...</td>\n",
       "      <td>THÔNG TIN CHI TIẾT\\nDung lượng pin 300\\nThời g...</td>\n",
       "      <td>4.0</td>\n",
       "      <td>77000</td>\n",
       "      <td>300000</td>\n",
       "      <td>OEM</td>\n",
       "      <td>Thiết Bị Số - Phụ Kiện Số/Thiết Bị Âm Thanh và...</td>\n",
       "      <td>https://tai-nghe-bluetooth-inpods-12-cam-bien-...</td>\n",
       "      <td>https://salt.tikicdn.com/cache/280x280/ts/prod...</td>\n",
       "    </tr>\n",
       "    <tr>\n",
       "      <th>1</th>\n",
       "      <td>52333193</td>\n",
       "      <td>Tai nghe bluetooth không dây F9 True wireless ...</td>\n",
       "      <td>THÔNG TIN CHI TIẾT\\nDung lượng pin 2000mah\\nTh...</td>\n",
       "      <td>4.5</td>\n",
       "      <td>132000</td>\n",
       "      <td>750000</td>\n",
       "      <td>OEM</td>\n",
       "      <td>Thiết Bị Số - Phụ Kiện Số/Thiết Bị Âm Thanh và...</td>\n",
       "      <td>https://tai-nghe-bluetooth-khong-day-f9-true-w...</td>\n",
       "      <td>https://salt.tikicdn.com/cache/280x280/ts/prod...</td>\n",
       "    </tr>\n",
       "    <tr>\n",
       "      <th>2</th>\n",
       "      <td>299461</td>\n",
       "      <td>Chuột Không Dây Logitech M331 Silent - Hàng Ch...</td>\n",
       "      <td>THÔNG TIN CHI TIẾT\\nThương hiệu Logitech\\nĐộ p...</td>\n",
       "      <td>4.8</td>\n",
       "      <td>299000</td>\n",
       "      <td>399000</td>\n",
       "      <td>Logitech</td>\n",
       "      <td>Thiết Bị Số - Phụ Kiện Số/Phụ kiện máy tính và...</td>\n",
       "      <td>https://chuot-khong-day-logitech-m331-silent-p...</td>\n",
       "      <td>https://salt.tikicdn.com/cache/280x280/media/c...</td>\n",
       "    </tr>\n",
       "    <tr>\n",
       "      <th>3</th>\n",
       "      <td>57440329</td>\n",
       "      <td>Loa Bluetooth 5.0 Kiêm Đồng Hồ Báo Thức - [[ 2...</td>\n",
       "      <td>THÔNG TIN CHI TIẾT\\nThương hiệu Acome\\nXuất xứ...</td>\n",
       "      <td>4.7</td>\n",
       "      <td>149000</td>\n",
       "      <td>350000</td>\n",
       "      <td>Acome</td>\n",
       "      <td>Thiết Bị Số - Phụ Kiện Số/Thiết Bị Âm Thanh và...</td>\n",
       "      <td>https://loa-bluetooth-5-0-kiem-dong-ho-bao-thu...</td>\n",
       "      <td>https://salt.tikicdn.com/cache/280x280/ts/prod...</td>\n",
       "    </tr>\n",
       "    <tr>\n",
       "      <th>4</th>\n",
       "      <td>38458616</td>\n",
       "      <td>Tai Nghe Bluetooth Apple AirPods Pro True Wire...</td>\n",
       "      <td>THÔNG TIN CHI TIẾT\\nThương hiệu Apple\\nXuất xứ...</td>\n",
       "      <td>4.8</td>\n",
       "      <td>5090000</td>\n",
       "      <td>8500000</td>\n",
       "      <td>Apple</td>\n",
       "      <td>Thiết Bị Số - Phụ Kiện Số/Thiết Bị Âm Thanh và...</td>\n",
       "      <td>https://tai-nghe-bluetooth-apple-airpods-pro-t...</td>\n",
       "      <td>https://salt.tikicdn.com/cache/280x280/ts/prod...</td>\n",
       "    </tr>\n",
       "  </tbody>\n",
       "</table>\n",
       "</div>"
      ],
      "text/plain": [
       "    item_id                                               name  \\\n",
       "0  48102821  Tai nghe Bluetooth Inpods 12 - Cảm biến vân ta...   \n",
       "1  52333193  Tai nghe bluetooth không dây F9 True wireless ...   \n",
       "2    299461  Chuột Không Dây Logitech M331 Silent - Hàng Ch...   \n",
       "3  57440329  Loa Bluetooth 5.0 Kiêm Đồng Hồ Báo Thức - [[ 2...   \n",
       "4  38458616  Tai Nghe Bluetooth Apple AirPods Pro True Wire...   \n",
       "\n",
       "                                         description  rating    price  \\\n",
       "0  THÔNG TIN CHI TIẾT\\nDung lượng pin 300\\nThời g...     4.0    77000   \n",
       "1  THÔNG TIN CHI TIẾT\\nDung lượng pin 2000mah\\nTh...     4.5   132000   \n",
       "2  THÔNG TIN CHI TIẾT\\nThương hiệu Logitech\\nĐộ p...     4.8   299000   \n",
       "3  THÔNG TIN CHI TIẾT\\nThương hiệu Acome\\nXuất xứ...     4.7   149000   \n",
       "4  THÔNG TIN CHI TIẾT\\nThương hiệu Apple\\nXuất xứ...     4.8  5090000   \n",
       "\n",
       "   list_price     brand                                              group  \\\n",
       "0      300000       OEM  Thiết Bị Số - Phụ Kiện Số/Thiết Bị Âm Thanh và...   \n",
       "1      750000       OEM  Thiết Bị Số - Phụ Kiện Số/Thiết Bị Âm Thanh và...   \n",
       "2      399000  Logitech  Thiết Bị Số - Phụ Kiện Số/Phụ kiện máy tính và...   \n",
       "3      350000     Acome  Thiết Bị Số - Phụ Kiện Số/Thiết Bị Âm Thanh và...   \n",
       "4     8500000     Apple  Thiết Bị Số - Phụ Kiện Số/Thiết Bị Âm Thanh và...   \n",
       "\n",
       "                                                 url  \\\n",
       "0  https://tai-nghe-bluetooth-inpods-12-cam-bien-...   \n",
       "1  https://tai-nghe-bluetooth-khong-day-f9-true-w...   \n",
       "2  https://chuot-khong-day-logitech-m331-silent-p...   \n",
       "3  https://loa-bluetooth-5-0-kiem-dong-ho-bao-thu...   \n",
       "4  https://tai-nghe-bluetooth-apple-airpods-pro-t...   \n",
       "\n",
       "                                               image  \n",
       "0  https://salt.tikicdn.com/cache/280x280/ts/prod...  \n",
       "1  https://salt.tikicdn.com/cache/280x280/ts/prod...  \n",
       "2  https://salt.tikicdn.com/cache/280x280/media/c...  \n",
       "3  https://salt.tikicdn.com/cache/280x280/ts/prod...  \n",
       "4  https://salt.tikicdn.com/cache/280x280/ts/prod...  "
      ]
     },
     "execution_count": 4,
     "metadata": {},
     "output_type": "execute_result"
    }
   ],
   "source": [
    "# Load data\n",
    "products = pd.read_csv('ProductRaw.csv')\n",
    "products.head()"
   ]
  },
  {
   "cell_type": "code",
   "execution_count": 5,
   "id": "2241eb64",
   "metadata": {},
   "outputs": [
    {
     "data": {
      "text/plain": [
       "(4404, 10)"
      ]
     },
     "execution_count": 5,
     "metadata": {},
     "output_type": "execute_result"
    }
   ],
   "source": [
    "products.shape"
   ]
  },
  {
   "cell_type": "code",
   "execution_count": 6,
   "id": "bcb9dab7",
   "metadata": {},
   "outputs": [
    {
     "name": "stdout",
     "output_type": "stream",
     "text": [
      "<class 'pandas.core.frame.DataFrame'>\n",
      "RangeIndex: 4404 entries, 0 to 4403\n",
      "Data columns (total 10 columns):\n",
      " #   Column       Non-Null Count  Dtype  \n",
      "---  ------       --------------  -----  \n",
      " 0   item_id      4404 non-null   int64  \n",
      " 1   name         4404 non-null   object \n",
      " 2   description  4401 non-null   object \n",
      " 3   rating       4404 non-null   float64\n",
      " 4   price        4404 non-null   int64  \n",
      " 5   list_price   4404 non-null   int64  \n",
      " 6   brand        4404 non-null   object \n",
      " 7   group        4404 non-null   object \n",
      " 8   url          4404 non-null   object \n",
      " 9   image        4404 non-null   object \n",
      "dtypes: float64(1), int64(3), object(6)\n",
      "memory usage: 344.2+ KB\n"
     ]
    }
   ],
   "source": [
    "products.info()"
   ]
  },
  {
   "cell_type": "code",
   "execution_count": 7,
   "id": "087f39f5",
   "metadata": {},
   "outputs": [
    {
     "data": {
      "text/plain": [
       "item_id        0\n",
       "name           0\n",
       "description    3\n",
       "rating         0\n",
       "price          0\n",
       "list_price     0\n",
       "brand          0\n",
       "group          0\n",
       "url            0\n",
       "image          0\n",
       "dtype: int64"
      ]
     },
     "execution_count": 7,
     "metadata": {},
     "output_type": "execute_result"
    }
   ],
   "source": [
    "# Check NaN values\n",
    "products.isna().sum()"
   ]
  },
  {
   "cell_type": "code",
   "execution_count": 8,
   "id": "fc870780",
   "metadata": {},
   "outputs": [],
   "source": [
    "# Loại bỏ giá trị thiếu\n",
    "products = products.dropna()"
   ]
  },
  {
   "cell_type": "code",
   "execution_count": 9,
   "id": "d1d51bea",
   "metadata": {},
   "outputs": [
    {
     "data": {
      "text/plain": [
       "item_id        0\n",
       "name           0\n",
       "description    0\n",
       "rating         0\n",
       "price          0\n",
       "list_price     0\n",
       "brand          0\n",
       "group          0\n",
       "url            0\n",
       "image          0\n",
       "dtype: int64"
      ]
     },
     "execution_count": 9,
     "metadata": {},
     "output_type": "execute_result"
    }
   ],
   "source": [
    "products.isna().sum()"
   ]
  },
  {
   "cell_type": "code",
   "execution_count": 10,
   "id": "c3061280",
   "metadata": {},
   "outputs": [
    {
     "data": {
      "text/plain": [
       "31"
      ]
     },
     "execution_count": 10,
     "metadata": {},
     "output_type": "execute_result"
    }
   ],
   "source": [
    "# check duplicate\n",
    "products.duplicated().sum()"
   ]
  },
  {
   "cell_type": "code",
   "execution_count": 11,
   "id": "9d19a794",
   "metadata": {},
   "outputs": [],
   "source": [
    "# loại bỏ dữ liệu trùng\n",
    "products = products.drop_duplicates()"
   ]
  },
  {
   "cell_type": "code",
   "execution_count": 12,
   "id": "52da18ee",
   "metadata": {},
   "outputs": [
    {
     "data": {
      "text/plain": [
       "(4370, 10)"
      ]
     },
     "execution_count": 12,
     "metadata": {},
     "output_type": "execute_result"
    }
   ],
   "source": [
    "products.shape"
   ]
  },
  {
   "cell_type": "code",
   "execution_count": 13,
   "id": "3345a6c0",
   "metadata": {},
   "outputs": [
    {
     "data": {
      "text/plain": [
       "'THÔNG TIN CHI TIẾT\\nDung lượng pin 300\\nThời gian pin - Thời gian nghe nhạc liên tục từ 2.5-4h - Thời gian sạc đầy chỉ khoảng 60p - Thời gian chờ lên tới 140 giờ\\nBluetooth 5\\nThương hiệu OEM\\nXuất xứ thương hiệu Trung Quốc\\nĐộ nhạy cảm biến vân tay\\nModel i12\\nLoại Jack cắm USB Cable\\nTrọng lượng 300g\\nThời gian sử dụng\\n- Thời gian nghe nhạc liên tục từ 2.5-4h\\nSKU 4096608751631\\nMÔ TẢ SẢN PHẨM\\nINPOD 12 là phiên bản nâng cấp mới nhất , tai nghe Bluetooth 5.0 có thiết kế tỉ lệ chuẩn 1:1 với tai Airpod chính hãng\\nLược bỏ nút bấm trên thân tai thay vào đó là nút cảm ứng sử dụng dễ dàng và thuận tiện hơn\\nThao tác nhận cuộc gọi đến, chuyển nhạc...một cách dễ dàng chỉ bằng 1 chạm\\nBluetooth 5.0 mới nhất cho kết nối vô cùng ổn định\\n- Bluetooth 5.0 mới nhất cho kết nối vô cùng ổn định\\n- 2 tai nghe tự kết nối với nhau khi được lấy ra từ dock sạc\\n- Chất âm và thời lượng pin được cải thiện tối ưu\\n- Dock sạc tiện lợi cho tới 4 lần sạc đầy pin tai nghe\\n-Các thiết bị tương thích: các thiết bị Bluetooth như cho Xiaomi, Samsung, Apple, Huawei, OPPO, vivo, Lenovo, tablet, v. v. \\n- Thời gian nghe nhạc liên tục từ 2.5-4h\\n- Thời gian sạc đầy chỉ khoảng 60p\\n- Thời gian chờ lên tới 140 giờ\\nGiá sản phẩm trên Tiki đã bao gồm thuế theo luật hiện hành. Tuy nhiên tuỳ vào từng loại sản phẩm hoặc phương thức, địa chỉ giao hàng mà có thể phát sinh thêm chi phí khác như phí vận chuyển, phụ phí hàng cồng kềnh, ...\\n'"
      ]
     },
     "execution_count": 13,
     "metadata": {},
     "output_type": "execute_result"
    }
   ],
   "source": [
    "# Before cleaning\n",
    "products.iloc[0]['description']"
   ]
  },
  {
   "cell_type": "code",
   "execution_count": 14,
   "id": "6c60f5d9",
   "metadata": {},
   "outputs": [
    {
     "data": {
      "text/plain": [
       "'THÔNG TIN CHI TIẾT\\nBluetooth 5\\nThương hiệu OEM\\nXuất xứ thương hiệu Trung Quốc\\nKích thước\\n56mm*44mm*21mm\\nModel Inpod i12\\nXuất xứ Trung Quốc\\nThời gian sử dụng\\nKhoảng 1.5 tiếng (tùy theo âm lượng nghe)\\nSKU 3869352370595\\nMÔ TẢ SẢN PHẨM\\nTHÔNG SỐ KỸ THUẬT\\nTên sản phẩm: Tai nghe Inpod i12 TWS Bluetooth 5.0 cho iPhone và Android kèm Hộp sạc\\nModel: i12 TWS- Kết nối: Bluetooth 5.0\\nHỗ trợ: HSP/HFP/A2DP/AVRCP/SPP\\nNút chạm cảm ứng\\nDải tần: 40Hz – 20KHz\\nKhoảng cách kết nối: ≥10m\\nKích thước: 56mm*44mm*21mm\\nKhối lượng: 45g\\nhời gian hoạt động: khoảng 1.5 tiếng (tùy theo âm lượng nghe)\\nĐộ nhạy: 106dB SPL ± 3dB\\nTai nghe Inpod i12 TWS Bluetooth 5.0 cho iPhone và Android kèm Hộp sạc\\nVới thiết kế sang trọng, tinh tế Tai nghe Bluetooth 5.0 i12 TWS Bluetooth sẽ mang đến vẻ năng động, hiện đại cho bạn. Với trang bị cảm biến một chạm nâng cấp mới, mọi thao tác điều khiển chiếc tai nghe tiện lợi.\\nChất âm được tuyệt vời khi cho bass, treble, mid cân bằng, mang tới những trải nghiệm nghe nhạc cũng như đàm thoại rất ấn tượng được cải thiện qua nhiều dòng tai nghe trước.\\nThời lượng pin được cải tiến rõ rệt nhờ vào công nghệ Bluetooth 5.0 mang tới hơn 2,5h nghe nhạc liên tục (tùy theo âm lượng nghe).\\nChân dock sạc lightning có thể sử dụng cáp sạc iPhone để sạc nhưng bạn cứ yên tâm sản phẩm sẽ được kèm một chiếc cáp sạc.\\nTai nghe nhỏ gọn, kiểu dáng thời trang, chất liệu cao cấp cùng với sự kết nối Bluetooth nhanh chóng mang đến cho bạn một trải nghiệm âm thanh bất tận. Tha hồ nghe nhạc hay đàm thoại với chất lượng cực ổn định.\\n--- Hướng dẫn sử dụng ---\\nBước 1: Lấy 2 tai nghe ra khỏi dock sạc\\nBước 2: Hai tai nghe sẽ tự nhấp nháy đèn để tự liên kết với nhau\\nBước 3: Bật thiết bị bluetooth trên điện thoại, và chọn i12 để kết nối với tai nghe\\n***Chú ý:\\n1. Chạm 2 lần liên tiếp bên phải để tăng âm lượng, bên trái để giảm âm lượng.\\n2. Chạm giữ khoảng 2 giây một bên bất kỳ để chuyển sang bài tiếp theo.\\n3. Khi có cuộc gọi đến, chạm 1 lần bất kỳ một bên để trả lời.\\n4. Chạm 3 lần liên tiếp tai nghe sẽ kết nối với Siri cho điện thoại Iphone.\\n      Quý khách lưu ý: Màu sắc của tai nghe sẽ được giao ngẫu nhiên.\\nTHÔNG SỐ KỸ THUẬT\\nTên sản phẩm: Tai nghe Inpod i12 TWS Bluetooth 5.0 cho iPhone và Android kèm Hộp sạc\\nModel: i12 TWS- Kết nối: Bluetooth 5.0\\nHỗ trợ: HSP/HFP/A2DP/AVRCP/SPP\\nNút chạm cảm ứng\\nDải tần: 40Hz – 20KHz\\nKhoảng cách kết nối: ≥10m\\nKích thước: 56mm*44mm*21mm\\nKhối lượng: 45g\\nhời gian hoạt động: khoảng 1.5 tiếng (tùy theo âm lượng nghe)\\nĐộ nhạy: 106dB SPL ± 3dB\\nGiá sản phẩm trên Tiki đã bao gồm thuế theo luật hiện hành. Tuy nhiên tuỳ vào từng loại sản phẩm hoặc phương thức, địa chỉ giao hàng mà có thể phát sinh thêm chi phí khác như phí vận chuyển, phụ phí hàng cồng kềnh, ...\\n'"
      ]
     },
     "execution_count": 14,
     "metadata": {},
     "output_type": "execute_result"
    }
   ],
   "source": [
    "# Before cleaning\n",
    "products.iloc[30]['description']"
   ]
  },
  {
   "cell_type": "code",
   "execution_count": 15,
   "id": "fd3bfdd1",
   "metadata": {},
   "outputs": [],
   "source": [
    "# Define a function to clean the text, combining all steps together\n",
    "def simple_text_clean(dataframe):\n",
    "    # Loại bỏ một số từ lặp lại nhiều lần\n",
    "    words = ['THÔNG TIN CHI TIẾT', 'Thương hiệu', 'thương hiệu','Xuất xứ', 'Kích thước', 'MÔ TẢ SẢN PHẨM', \n",
    "             'Giá sản phẩm trên Tiki đã bao gồm thuế theo luật hiện hành. Tuy nhiên tuỳ vào từng loại sản phẩm hoặc phương thức, địa chỉ giao hàng mà có thể phát sinh thêm chi phí khác như phí vận chuyển, phụ phí hàng cồng kềnh, ...']\n",
    "    for word in words:\n",
    "        dataframe = dataframe.replace(word, '', regex=True)\n",
    "    # Remove HTTP links\n",
    "    dataframe = dataframe.replace(\n",
    "        r'((http|https)\\:\\/\\/)?[a-zA-Z0-9\\.\\/\\?\\:@\\-_=#]+\\.([a-zA-Z]){2,6}([a-zA-Z0-9\\.\\&\\/\\?\\:@\\-_=#])*', '',\n",
    "        regex=True)\n",
    "    # Remove end of line characters\n",
    "    dataframe = dataframe.replace(r'[\\r\\n]+', ' ', regex=True)\n",
    "    dataframe = dataframe.replace('[\\w]*\\d+[\\w]*', '', regex=True)\n",
    "    # Remove punctuation\n",
    "    dataframe = dataframe.replace('[^\\w\\s]', ' ', regex=True)\n",
    "    punctuation = '!\"#$%&\\'()*+,-./:;<=>?@[\\\\]^_`{|}~'\n",
    "    for char in punctuation:\n",
    "        dataframe = dataframe.replace(char, ' ')\n",
    "    # Remove multiple spaces with one space\n",
    "    dataframe = dataframe.replace('[\\s]{2,}', ' ', regex=True)\n",
    "    # Some lines start with a space, remove them\n",
    "    dataframe = dataframe.replace('^[\\s]{1,}', '', regex=True)\n",
    "    # Some lines end with a space, remove them\n",
    "    dataframe = dataframe.replace('[\\s]{1,}$', '', regex=True)\n",
    "    # Convert to lower case\n",
    "    dataframe = dataframe.str.lower()\n",
    "    # Remove rows that are empty\n",
    "    dataframe = dataframe[dataframe.str.len() > 0]\n",
    "    # Remove stop words\n",
    "    def remove_stopwords(text):\n",
    "        text_split = text.split()\n",
    "        text = [word for word in text_split if word not in stop_words]\n",
    "        return ' '.join(text)\n",
    "    dataframe = dataframe.apply(remove_stopwords)\n",
    "    return dataframe"
   ]
  },
  {
   "cell_type": "code",
   "execution_count": 16,
   "id": "15886925",
   "metadata": {},
   "outputs": [],
   "source": [
    "# Apply cleaning - description\n",
    "products['description'] = simple_text_clean(products['description'])"
   ]
  },
  {
   "cell_type": "code",
   "execution_count": 17,
   "id": "e466ca5c",
   "metadata": {},
   "outputs": [
    {
     "data": {
      "text/plain": [
       "'dung pin thời gian pin thời gian nhạc liên tục thời gian sạc thời gian chờ bluetooth oem trung quốc độ nhạy cảm biến vân model jack cắm usb cable thời gian sử dụng thời gian nhạc liên tục sku inpod phiên nâng tai bluetooth thiết kế tỉ lệ chuẩn tai airpod hãng lược nút bấm thân tai thay nút cảm ứng sử dụng dàng thuận tiện thao tác nhạc dàng chạm bluetooth kết nối vô ổn định bluetooth kết nối vô ổn định tai kết nối dock sạc chất âm thời pin cải thiện tối ưu dock sạc tiện lợi sạc pin tai thiết tương thích thiết bluetooth xiaomi samsung apple huawei oppo vivo lenovo tablet v v thời gian nhạc liên tục thời gian sạc thời gian chờ'"
      ]
     },
     "execution_count": 17,
     "metadata": {},
     "output_type": "execute_result"
    }
   ],
   "source": [
    "products.iloc[0]['description']"
   ]
  },
  {
   "cell_type": "code",
   "execution_count": 18,
   "id": "73a895bb",
   "metadata": {},
   "outputs": [
    {
     "data": {
      "text/plain": [
       "'bluetooth oem trung quốc model inpod trung quốc thời gian sử dụng tiếng tùy âm sku thông kỹ thuật sản phẩm tai inpod tws bluetooth iphone android kèm hộp sạc model tws kết nối bluetooth hỗ trợ hsp hfp avrcp spp nút chạm cảm ứng dải tần kết nối khối hời gian hoạt động tiếng tùy âm độ nhạy spl tai inpod tws bluetooth iphone android kèm hộp sạc thiết kế tinh tế tai bluetooth tws bluetooth vẻ năng động hiện đại trang cảm biến chạm nâng thao tác khiển tai tiện lợi chất âm tuyệt vời bass treble mid cân trải nghiệm nhạc đàm thoại ấn tượng cải thiện dòng tai thời pin cải tiến rệt công nghệ bluetooth nhạc liên tục tùy âm chân dock sạc lightning thể sử dụng cáp sạc iphone sạc yên tâm sản phẩm kèm cáp sạc tai gọn kiểu dáng thời trang chất liệu kết nối bluetooth chóng trải nghiệm âm bất tận tha hồ nhạc đàm thoại chất cực ổn định hướng sử dụng tai dock sạc hai tai nhấp nháy đèn liên kết bật thiết bluetooth điện thoại kết nối tai chạm liên tiếp âm trái âm chạm giây bất kỳ tiếp chạm bất kỳ chạm liên tiếp tai kết nối siri điện thoại iphone quý lưu màu sắc tai giao ngẫu nhiên thông kỹ thuật sản phẩm tai inpod tws bluetooth iphone android kèm hộp sạc model tws kết nối bluetooth hỗ trợ hsp hfp avrcp spp nút chạm cảm ứng dải tần kết nối khối hời gian hoạt động tiếng tùy âm độ nhạy spl'"
      ]
     },
     "execution_count": 18,
     "metadata": {},
     "output_type": "execute_result"
    }
   ],
   "source": [
    "products.iloc[30]['description']"
   ]
  },
  {
   "cell_type": "code",
   "execution_count": 19,
   "id": "4fc2f45c",
   "metadata": {},
   "outputs": [
    {
     "data": {
      "text/plain": [
       "'Thiết Bị Kết Nối Bluetooth 4.0 Qua Cổng USB TPLink UB400 - USB Bluetooth Hàng Chính Hãng'"
      ]
     },
     "execution_count": 19,
     "metadata": {},
     "output_type": "execute_result"
    }
   ],
   "source": [
    "# Before cleaning - name\n",
    "products.iloc[20]['name']"
   ]
  },
  {
   "cell_type": "code",
   "execution_count": 20,
   "id": "bb55fb53",
   "metadata": {},
   "outputs": [],
   "source": [
    "products['name'] = simple_text_clean(products['name'])"
   ]
  },
  {
   "cell_type": "code",
   "execution_count": 21,
   "id": "85dad1bb",
   "metadata": {},
   "outputs": [
    {
     "data": {
      "text/plain": [
       "'thiết kết nối bluetooth cổng usb tplink usb bluetooth hàng hãng'"
      ]
     },
     "execution_count": 21,
     "metadata": {},
     "output_type": "execute_result"
    }
   ],
   "source": [
    "# After cleaning\n",
    "products.iloc[20]['name']"
   ]
  },
  {
   "cell_type": "markdown",
   "id": "cbc991fa",
   "metadata": {},
   "source": [
    "### Brand chứa ký tự đặt biệt"
   ]
  },
  {
   "cell_type": "code",
   "execution_count": 22,
   "id": "8f2ad75f",
   "metadata": {},
   "outputs": [
    {
     "data": {
      "text/html": [
       "<div>\n",
       "<style scoped>\n",
       "    .dataframe tbody tr th:only-of-type {\n",
       "        vertical-align: middle;\n",
       "    }\n",
       "\n",
       "    .dataframe tbody tr th {\n",
       "        vertical-align: top;\n",
       "    }\n",
       "\n",
       "    .dataframe thead th {\n",
       "        text-align: right;\n",
       "    }\n",
       "</style>\n",
       "<table border=\"1\" class=\"dataframe\">\n",
       "  <thead>\n",
       "    <tr style=\"text-align: right;\">\n",
       "      <th></th>\n",
       "      <th>item_id</th>\n",
       "      <th>name</th>\n",
       "      <th>description</th>\n",
       "      <th>rating</th>\n",
       "      <th>price</th>\n",
       "      <th>list_price</th>\n",
       "      <th>brand</th>\n",
       "      <th>group</th>\n",
       "      <th>url</th>\n",
       "      <th>image</th>\n",
       "    </tr>\n",
       "  </thead>\n",
       "  <tbody>\n",
       "  </tbody>\n",
       "</table>\n",
       "</div>"
      ],
      "text/plain": [
       "Empty DataFrame\n",
       "Columns: [item_id, name, description, rating, price, list_price, brand, group, url, image]\n",
       "Index: []"
      ]
     },
     "execution_count": 22,
     "metadata": {},
     "output_type": "execute_result"
    }
   ],
   "source": [
    "products[products['brand'].str.contains(r'\\n')]"
   ]
  },
  {
   "cell_type": "code",
   "execution_count": 23,
   "id": "677589ce",
   "metadata": {},
   "outputs": [
    {
     "data": {
      "text/html": [
       "<div>\n",
       "<style scoped>\n",
       "    .dataframe tbody tr th:only-of-type {\n",
       "        vertical-align: middle;\n",
       "    }\n",
       "\n",
       "    .dataframe tbody tr th {\n",
       "        vertical-align: top;\n",
       "    }\n",
       "\n",
       "    .dataframe thead th {\n",
       "        text-align: right;\n",
       "    }\n",
       "</style>\n",
       "<table border=\"1\" class=\"dataframe\">\n",
       "  <thead>\n",
       "    <tr style=\"text-align: right;\">\n",
       "      <th></th>\n",
       "      <th>item_id</th>\n",
       "      <th>name</th>\n",
       "      <th>description</th>\n",
       "      <th>rating</th>\n",
       "      <th>price</th>\n",
       "      <th>list_price</th>\n",
       "      <th>brand</th>\n",
       "      <th>group</th>\n",
       "      <th>url</th>\n",
       "      <th>image</th>\n",
       "    </tr>\n",
       "  </thead>\n",
       "  <tbody>\n",
       "    <tr>\n",
       "      <th>239</th>\n",
       "      <td>77718549</td>\n",
       "      <td>cáp sạc đầu chiều cáp chất liệu vải chắn đầu s...</td>\n",
       "      <td>oem việt nam model việt nam sản xuất hongkong ...</td>\n",
       "      <td>5.0</td>\n",
       "      <td>26000</td>\n",
       "      <td>99000</td>\n",
       "      <td>\\tOEM</td>\n",
       "      <td>Thiết Bị Số - Phụ Kiện Số/Phụ Kiện Điện Thoại ...</td>\n",
       "      <td>https://cap-sac-3-dau-chieu-dai-cap-1m2-chat-l...</td>\n",
       "      <td>https://salt.tikicdn.com/cache/280x280/ts/prod...</td>\n",
       "    </tr>\n",
       "  </tbody>\n",
       "</table>\n",
       "</div>"
      ],
      "text/plain": [
       "      item_id                                               name  \\\n",
       "239  77718549  cáp sạc đầu chiều cáp chất liệu vải chắn đầu s...   \n",
       "\n",
       "                                           description  rating  price  \\\n",
       "239  oem việt nam model việt nam sản xuất hongkong ...     5.0  26000   \n",
       "\n",
       "     list_price  brand                                              group  \\\n",
       "239       99000  \\tOEM  Thiết Bị Số - Phụ Kiện Số/Phụ Kiện Điện Thoại ...   \n",
       "\n",
       "                                                   url  \\\n",
       "239  https://cap-sac-3-dau-chieu-dai-cap-1m2-chat-l...   \n",
       "\n",
       "                                                 image  \n",
       "239  https://salt.tikicdn.com/cache/280x280/ts/prod...  "
      ]
     },
     "execution_count": 23,
     "metadata": {},
     "output_type": "execute_result"
    }
   ],
   "source": [
    "products[products['brand'].str.contains(r'\\t')]"
   ]
  },
  {
   "cell_type": "code",
   "execution_count": 24,
   "id": "107cbb9b",
   "metadata": {},
   "outputs": [
    {
     "data": {
      "text/html": [
       "<div>\n",
       "<style scoped>\n",
       "    .dataframe tbody tr th:only-of-type {\n",
       "        vertical-align: middle;\n",
       "    }\n",
       "\n",
       "    .dataframe tbody tr th {\n",
       "        vertical-align: top;\n",
       "    }\n",
       "\n",
       "    .dataframe thead th {\n",
       "        text-align: right;\n",
       "    }\n",
       "</style>\n",
       "<table border=\"1\" class=\"dataframe\">\n",
       "  <thead>\n",
       "    <tr style=\"text-align: right;\">\n",
       "      <th></th>\n",
       "      <th>item_id</th>\n",
       "      <th>name</th>\n",
       "      <th>description</th>\n",
       "      <th>rating</th>\n",
       "      <th>price</th>\n",
       "      <th>list_price</th>\n",
       "      <th>brand</th>\n",
       "      <th>group</th>\n",
       "      <th>url</th>\n",
       "      <th>image</th>\n",
       "    </tr>\n",
       "  </thead>\n",
       "  <tbody>\n",
       "  </tbody>\n",
       "</table>\n",
       "</div>"
      ],
      "text/plain": [
       "Empty DataFrame\n",
       "Columns: [item_id, name, description, rating, price, list_price, brand, group, url, image]\n",
       "Index: []"
      ]
     },
     "execution_count": 24,
     "metadata": {},
     "output_type": "execute_result"
    }
   ],
   "source": [
    "products['brand'] = products['brand'].replace(r'\\t', '', regex=True)\n",
    "products[products['brand'].str.contains(r'\\t')]"
   ]
  },
  {
   "cell_type": "code",
   "execution_count": 25,
   "id": "c566e2ed",
   "metadata": {},
   "outputs": [
    {
     "data": {
      "text/html": [
       "<div>\n",
       "<style scoped>\n",
       "    .dataframe tbody tr th:only-of-type {\n",
       "        vertical-align: middle;\n",
       "    }\n",
       "\n",
       "    .dataframe tbody tr th {\n",
       "        vertical-align: top;\n",
       "    }\n",
       "\n",
       "    .dataframe thead th {\n",
       "        text-align: right;\n",
       "    }\n",
       "</style>\n",
       "<table border=\"1\" class=\"dataframe\">\n",
       "  <thead>\n",
       "    <tr style=\"text-align: right;\">\n",
       "      <th></th>\n",
       "      <th>item_id</th>\n",
       "      <th>name</th>\n",
       "      <th>description</th>\n",
       "      <th>rating</th>\n",
       "      <th>price</th>\n",
       "      <th>list_price</th>\n",
       "      <th>brand</th>\n",
       "      <th>group</th>\n",
       "      <th>url</th>\n",
       "      <th>image</th>\n",
       "    </tr>\n",
       "  </thead>\n",
       "  <tbody>\n",
       "    <tr>\n",
       "      <th>0</th>\n",
       "      <td>48102821</td>\n",
       "      <td>tai bluetooth inpods cảm biến vân chống màu sắ...</td>\n",
       "      <td>dung pin thời gian pin thời gian nhạc liên tục...</td>\n",
       "      <td>4.0</td>\n",
       "      <td>77000</td>\n",
       "      <td>300000</td>\n",
       "      <td>OEM</td>\n",
       "      <td>Thiết Bị Số - Phụ Kiện Số/Thiết Bị Âm Thanh và...</td>\n",
       "      <td>https://tai-nghe-bluetooth-inpods-12-cam-bien-...</td>\n",
       "      <td>https://salt.tikicdn.com/cache/280x280/ts/prod...</td>\n",
       "    </tr>\n",
       "    <tr>\n",
       "      <th>1</th>\n",
       "      <td>52333193</td>\n",
       "      <td>tai bluetooth không dây true wireless dock sạc...</td>\n",
       "      <td>dung pin thời gian pin thời gian nhạc thời gia...</td>\n",
       "      <td>4.5</td>\n",
       "      <td>132000</td>\n",
       "      <td>750000</td>\n",
       "      <td>OEM</td>\n",
       "      <td>Thiết Bị Số - Phụ Kiện Số/Thiết Bị Âm Thanh và...</td>\n",
       "      <td>https://tai-nghe-bluetooth-khong-day-f9-true-w...</td>\n",
       "      <td>https://salt.tikicdn.com/cache/280x280/ts/prod...</td>\n",
       "    </tr>\n",
       "    <tr>\n",
       "      <th>2</th>\n",
       "      <td>299461</td>\n",
       "      <td>chuột không dây logitech silent hàng hãng</td>\n",
       "      <td>logitech độ phân giải quang học model lưu kéo ...</td>\n",
       "      <td>4.8</td>\n",
       "      <td>299000</td>\n",
       "      <td>399000</td>\n",
       "      <td>Logitech</td>\n",
       "      <td>Thiết Bị Số - Phụ Kiện Số/Phụ kiện máy tính và...</td>\n",
       "      <td>https://chuot-khong-day-logitech-m331-silent-p...</td>\n",
       "      <td>https://salt.tikicdn.com/cache/280x280/media/c...</td>\n",
       "    </tr>\n",
       "    <tr>\n",
       "      <th>3</th>\n",
       "      <td>57440329</td>\n",
       "      <td>loa bluetooth kiêm đồng hồ báo thức robot hàng...</td>\n",
       "      <td>acome indonesia trung quốc sku indonesia tình ...</td>\n",
       "      <td>4.7</td>\n",
       "      <td>149000</td>\n",
       "      <td>350000</td>\n",
       "      <td>Acome</td>\n",
       "      <td>Thiết Bị Số - Phụ Kiện Số/Thiết Bị Âm Thanh và...</td>\n",
       "      <td>https://loa-bluetooth-5-0-kiem-dong-ho-bao-thu...</td>\n",
       "      <td>https://salt.tikicdn.com/cache/280x280/ts/prod...</td>\n",
       "    </tr>\n",
       "    <tr>\n",
       "      <th>4</th>\n",
       "      <td>38458616</td>\n",
       "      <td>tai bluetooth apple airpods pro true wireless ...</td>\n",
       "      <td>apple mỹ tai mm hộp sạc mm model tai g hộp sạc...</td>\n",
       "      <td>4.8</td>\n",
       "      <td>5090000</td>\n",
       "      <td>8500000</td>\n",
       "      <td>Apple</td>\n",
       "      <td>Thiết Bị Số - Phụ Kiện Số/Thiết Bị Âm Thanh và...</td>\n",
       "      <td>https://tai-nghe-bluetooth-apple-airpods-pro-t...</td>\n",
       "      <td>https://salt.tikicdn.com/cache/280x280/ts/prod...</td>\n",
       "    </tr>\n",
       "  </tbody>\n",
       "</table>\n",
       "</div>"
      ],
      "text/plain": [
       "    item_id                                               name  \\\n",
       "0  48102821  tai bluetooth inpods cảm biến vân chống màu sắ...   \n",
       "1  52333193  tai bluetooth không dây true wireless dock sạc...   \n",
       "2    299461          chuột không dây logitech silent hàng hãng   \n",
       "3  57440329  loa bluetooth kiêm đồng hồ báo thức robot hàng...   \n",
       "4  38458616  tai bluetooth apple airpods pro true wireless ...   \n",
       "\n",
       "                                         description  rating    price  \\\n",
       "0  dung pin thời gian pin thời gian nhạc liên tục...     4.0    77000   \n",
       "1  dung pin thời gian pin thời gian nhạc thời gia...     4.5   132000   \n",
       "2  logitech độ phân giải quang học model lưu kéo ...     4.8   299000   \n",
       "3  acome indonesia trung quốc sku indonesia tình ...     4.7   149000   \n",
       "4  apple mỹ tai mm hộp sạc mm model tai g hộp sạc...     4.8  5090000   \n",
       "\n",
       "   list_price     brand                                              group  \\\n",
       "0      300000       OEM  Thiết Bị Số - Phụ Kiện Số/Thiết Bị Âm Thanh và...   \n",
       "1      750000       OEM  Thiết Bị Số - Phụ Kiện Số/Thiết Bị Âm Thanh và...   \n",
       "2      399000  Logitech  Thiết Bị Số - Phụ Kiện Số/Phụ kiện máy tính và...   \n",
       "3      350000     Acome  Thiết Bị Số - Phụ Kiện Số/Thiết Bị Âm Thanh và...   \n",
       "4     8500000     Apple  Thiết Bị Số - Phụ Kiện Số/Thiết Bị Âm Thanh và...   \n",
       "\n",
       "                                                 url  \\\n",
       "0  https://tai-nghe-bluetooth-inpods-12-cam-bien-...   \n",
       "1  https://tai-nghe-bluetooth-khong-day-f9-true-w...   \n",
       "2  https://chuot-khong-day-logitech-m331-silent-p...   \n",
       "3  https://loa-bluetooth-5-0-kiem-dong-ho-bao-thu...   \n",
       "4  https://tai-nghe-bluetooth-apple-airpods-pro-t...   \n",
       "\n",
       "                                               image  \n",
       "0  https://salt.tikicdn.com/cache/280x280/ts/prod...  \n",
       "1  https://salt.tikicdn.com/cache/280x280/ts/prod...  \n",
       "2  https://salt.tikicdn.com/cache/280x280/media/c...  \n",
       "3  https://salt.tikicdn.com/cache/280x280/ts/prod...  \n",
       "4  https://salt.tikicdn.com/cache/280x280/ts/prod...  "
      ]
     },
     "execution_count": 25,
     "metadata": {},
     "output_type": "execute_result"
    }
   ],
   "source": [
    "products.head()"
   ]
  },
  {
   "cell_type": "code",
   "execution_count": 26,
   "id": "c22fabb8",
   "metadata": {},
   "outputs": [],
   "source": [
    "# # Save new file\n",
    "# products.to_csv('Products.csv', index= False)"
   ]
  },
  {
   "cell_type": "markdown",
   "id": "88db1e8d",
   "metadata": {},
   "source": [
    "## Reviews Data"
   ]
  },
  {
   "cell_type": "code",
   "execution_count": 27,
   "id": "78bc55b2",
   "metadata": {},
   "outputs": [
    {
     "data": {
      "text/html": [
       "<div>\n",
       "<style scoped>\n",
       "    .dataframe tbody tr th:only-of-type {\n",
       "        vertical-align: middle;\n",
       "    }\n",
       "\n",
       "    .dataframe tbody tr th {\n",
       "        vertical-align: top;\n",
       "    }\n",
       "\n",
       "    .dataframe thead th {\n",
       "        text-align: right;\n",
       "    }\n",
       "</style>\n",
       "<table border=\"1\" class=\"dataframe\">\n",
       "  <thead>\n",
       "    <tr style=\"text-align: right;\">\n",
       "      <th></th>\n",
       "      <th>customer_id</th>\n",
       "      <th>product_id</th>\n",
       "      <th>name</th>\n",
       "      <th>full_name</th>\n",
       "      <th>created_time</th>\n",
       "      <th>rating</th>\n",
       "      <th>title</th>\n",
       "      <th>content</th>\n",
       "    </tr>\n",
       "  </thead>\n",
       "  <tbody>\n",
       "    <tr>\n",
       "      <th>0</th>\n",
       "      <td>709310</td>\n",
       "      <td>10001012</td>\n",
       "      <td>Lân Nguyễn Hoàng</td>\n",
       "      <td>Lân Nguyễn Hoàng</td>\n",
       "      <td>NaN</td>\n",
       "      <td>3</td>\n",
       "      <td>Ko dùng đc thẻ nhớ</td>\n",
       "      <td>Lúcđầu quên thông tin nên dùng 512gb thì ko đc...</td>\n",
       "    </tr>\n",
       "    <tr>\n",
       "      <th>1</th>\n",
       "      <td>10701688</td>\n",
       "      <td>10001012</td>\n",
       "      <td>Nguyễn Khánh Hòa</td>\n",
       "      <td>Nguyễn Khánh Hòa</td>\n",
       "      <td>NaN</td>\n",
       "      <td>5</td>\n",
       "      <td>Cực kì hài lòng</td>\n",
       "      <td>Tiki giao hàng nhanh. Sản phẩm đúng như mô tả,...</td>\n",
       "    </tr>\n",
       "    <tr>\n",
       "      <th>2</th>\n",
       "      <td>11763074</td>\n",
       "      <td>10001012</td>\n",
       "      <td>Toàn Phạm Khánh</td>\n",
       "      <td>Toàn Phạm Khánh</td>\n",
       "      <td>2019-04-17 15:42:45</td>\n",
       "      <td>5</td>\n",
       "      <td>Cực kì hài lòng</td>\n",
       "      <td>chất lượng camera rõ nét, chống mưa nắng tuyệt...</td>\n",
       "    </tr>\n",
       "    <tr>\n",
       "      <th>3</th>\n",
       "      <td>9909549</td>\n",
       "      <td>10001012</td>\n",
       "      <td>Nguyen Quang Minh</td>\n",
       "      <td>NaN</td>\n",
       "      <td>NaN</td>\n",
       "      <td>5</td>\n",
       "      <td>Rất hài lòng</td>\n",
       "      <td>Hàng được đóng gói cẩn thận, giao hàng nhanh ,...</td>\n",
       "    </tr>\n",
       "    <tr>\n",
       "      <th>4</th>\n",
       "      <td>1827148</td>\n",
       "      <td>10001012</td>\n",
       "      <td>Phạm Bá Đức</td>\n",
       "      <td>Phạm Bá Đức</td>\n",
       "      <td>NaN</td>\n",
       "      <td>5</td>\n",
       "      <td>Cực kì hài lòng</td>\n",
       "      <td>dễ cài đặt, chất lượng tốt, chế độ xem hồng ng...</td>\n",
       "    </tr>\n",
       "  </tbody>\n",
       "</table>\n",
       "</div>"
      ],
      "text/plain": [
       "   customer_id  product_id               name         full_name  \\\n",
       "0       709310    10001012   Lân Nguyễn Hoàng  Lân Nguyễn Hoàng   \n",
       "1     10701688    10001012   Nguyễn Khánh Hòa  Nguyễn Khánh Hòa   \n",
       "2     11763074    10001012    Toàn Phạm Khánh   Toàn Phạm Khánh   \n",
       "3      9909549    10001012  Nguyen Quang Minh               NaN   \n",
       "4      1827148    10001012        Phạm Bá Đức       Phạm Bá Đức   \n",
       "\n",
       "          created_time  rating               title  \\\n",
       "0                  NaN       3  Ko dùng đc thẻ nhớ   \n",
       "1                  NaN       5     Cực kì hài lòng   \n",
       "2  2019-04-17 15:42:45       5     Cực kì hài lòng   \n",
       "3                  NaN       5        Rất hài lòng   \n",
       "4                  NaN       5     Cực kì hài lòng   \n",
       "\n",
       "                                             content  \n",
       "0  Lúcđầu quên thông tin nên dùng 512gb thì ko đc...  \n",
       "1  Tiki giao hàng nhanh. Sản phẩm đúng như mô tả,...  \n",
       "2  chất lượng camera rõ nét, chống mưa nắng tuyệt...  \n",
       "3  Hàng được đóng gói cẩn thận, giao hàng nhanh ,...  \n",
       "4  dễ cài đặt, chất lượng tốt, chế độ xem hồng ng...  "
      ]
     },
     "execution_count": 27,
     "metadata": {},
     "output_type": "execute_result"
    }
   ],
   "source": [
    "# Load data\n",
    "reviews = pd.read_csv('ReviewRaw.csv')\n",
    "reviews.head()"
   ]
  },
  {
   "cell_type": "code",
   "execution_count": 28,
   "id": "20b38caa",
   "metadata": {},
   "outputs": [
    {
     "data": {
      "text/plain": [
       "(364099, 8)"
      ]
     },
     "execution_count": 28,
     "metadata": {},
     "output_type": "execute_result"
    }
   ],
   "source": [
    "reviews.shape"
   ]
  },
  {
   "cell_type": "code",
   "execution_count": 29,
   "id": "792196bf",
   "metadata": {},
   "outputs": [
    {
     "name": "stdout",
     "output_type": "stream",
     "text": [
      "<class 'pandas.core.frame.DataFrame'>\n",
      "RangeIndex: 364099 entries, 0 to 364098\n",
      "Data columns (total 8 columns):\n",
      " #   Column        Non-Null Count   Dtype \n",
      "---  ------        --------------   ----- \n",
      " 0   customer_id   364099 non-null  int64 \n",
      " 1   product_id    364099 non-null  int64 \n",
      " 2   name          363669 non-null  object\n",
      " 3   full_name     329471 non-null  object\n",
      " 4   created_time  117340 non-null  object\n",
      " 5   rating        364099 non-null  int64 \n",
      " 6   title         364070 non-null  object\n",
      " 7   content       165794 non-null  object\n",
      "dtypes: int64(3), object(5)\n",
      "memory usage: 22.2+ MB\n"
     ]
    }
   ],
   "source": [
    "reviews.info()"
   ]
  },
  {
   "cell_type": "markdown",
   "id": "f4604bb8",
   "metadata": {},
   "source": [
    "### So sánh với item_id của product"
   ]
  },
  {
   "cell_type": "code",
   "execution_count": 30,
   "id": "e3909693",
   "metadata": {},
   "outputs": [
    {
     "data": {
      "text/html": [
       "<div>\n",
       "<style scoped>\n",
       "    .dataframe tbody tr th:only-of-type {\n",
       "        vertical-align: middle;\n",
       "    }\n",
       "\n",
       "    .dataframe tbody tr th {\n",
       "        vertical-align: top;\n",
       "    }\n",
       "\n",
       "    .dataframe thead th {\n",
       "        text-align: right;\n",
       "    }\n",
       "</style>\n",
       "<table border=\"1\" class=\"dataframe\">\n",
       "  <thead>\n",
       "    <tr style=\"text-align: right;\">\n",
       "      <th></th>\n",
       "      <th>customer_id</th>\n",
       "      <th>product_id</th>\n",
       "      <th>name</th>\n",
       "      <th>full_name</th>\n",
       "      <th>created_time</th>\n",
       "      <th>rating</th>\n",
       "      <th>title</th>\n",
       "      <th>content</th>\n",
       "    </tr>\n",
       "  </thead>\n",
       "  <tbody>\n",
       "    <tr>\n",
       "      <th>16453</th>\n",
       "      <td>1109022</td>\n",
       "      <td>11607917</td>\n",
       "      <td>Nguyễn Hồng Quân</td>\n",
       "      <td>Nguyễn Hồng Quân</td>\n",
       "      <td>NaN</td>\n",
       "      <td>5</td>\n",
       "      <td>Màn hình OK</td>\n",
       "      <td>Tiki now giao đúng hẹn. Gói gọn cẩn thận. Cắm ...</td>\n",
       "    </tr>\n",
       "    <tr>\n",
       "      <th>16454</th>\n",
       "      <td>6221399</td>\n",
       "      <td>11607917</td>\n",
       "      <td>Tuấn Phạm</td>\n",
       "      <td>Tuấn Phạm</td>\n",
       "      <td>NaN</td>\n",
       "      <td>5</td>\n",
       "      <td>Cực kì hài lòng</td>\n",
       "      <td>Good. Tuy rằng hơi hở sáng, hình như là bệnh c...</td>\n",
       "    </tr>\n",
       "    <tr>\n",
       "      <th>16455</th>\n",
       "      <td>164450</td>\n",
       "      <td>11607917</td>\n",
       "      <td>Lê  Bình Minh</td>\n",
       "      <td>Lê  Bình Minh</td>\n",
       "      <td>NaN</td>\n",
       "      <td>5</td>\n",
       "      <td>Hài lòng</td>\n",
       "      <td>Tiki giao hàng đóng gói cẩn thận. Màn hình hợp...</td>\n",
       "    </tr>\n",
       "    <tr>\n",
       "      <th>16456</th>\n",
       "      <td>17984793</td>\n",
       "      <td>11607917</td>\n",
       "      <td>CHI VIET</td>\n",
       "      <td>CHI VIET</td>\n",
       "      <td>2020-08-04 17:25:21</td>\n",
       "      <td>5</td>\n",
       "      <td>Cực kì hài lòng</td>\n",
       "      <td>Sản phẩm rất tốt</td>\n",
       "    </tr>\n",
       "    <tr>\n",
       "      <th>16457</th>\n",
       "      <td>206255</td>\n",
       "      <td>11607917</td>\n",
       "      <td>Bùi Thanh Hiền</td>\n",
       "      <td>Bùi Thanh Hiền</td>\n",
       "      <td>2013-11-25 11:07:38</td>\n",
       "      <td>5</td>\n",
       "      <td>Cực kì hài lòng</td>\n",
       "      <td>NaN</td>\n",
       "    </tr>\n",
       "    <tr>\n",
       "      <th>...</th>\n",
       "      <td>...</td>\n",
       "      <td>...</td>\n",
       "      <td>...</td>\n",
       "      <td>...</td>\n",
       "      <td>...</td>\n",
       "      <td>...</td>\n",
       "      <td>...</td>\n",
       "      <td>...</td>\n",
       "    </tr>\n",
       "    <tr>\n",
       "      <th>192249</th>\n",
       "      <td>6079274</td>\n",
       "      <td>12706787</td>\n",
       "      <td>Nguyễn trung hiếu</td>\n",
       "      <td>NaN</td>\n",
       "      <td>NaN</td>\n",
       "      <td>4</td>\n",
       "      <td>Hàng nghe mượt, tốt</td>\n",
       "      <td>Hàng chuẩn! Nhưng mình đang phân vân ko biết 1...</td>\n",
       "    </tr>\n",
       "    <tr>\n",
       "      <th>192250</th>\n",
       "      <td>7474878</td>\n",
       "      <td>12706787</td>\n",
       "      <td>Mon Pham</td>\n",
       "      <td>NaN</td>\n",
       "      <td>NaN</td>\n",
       "      <td>5</td>\n",
       "      <td>Quá phê !!!!</td>\n",
       "      <td>Mong lần sau đừng giao hàng chậm nữa tháng như...</td>\n",
       "    </tr>\n",
       "    <tr>\n",
       "      <th>192251</th>\n",
       "      <td>13144258</td>\n",
       "      <td>12706787</td>\n",
       "      <td>Đỗ Đức Việt</td>\n",
       "      <td>NaN</td>\n",
       "      <td>NaN</td>\n",
       "      <td>5</td>\n",
       "      <td>Thắc mắc</td>\n",
       "      <td>Hàng nhập khẩu với hàng VNA khác nhau gì vậy T...</td>\n",
       "    </tr>\n",
       "    <tr>\n",
       "      <th>334471</th>\n",
       "      <td>10682172</td>\n",
       "      <td>75831435</td>\n",
       "      <td>Nguyễn Hữu Phan</td>\n",
       "      <td>Nguyễn Hữu Phan</td>\n",
       "      <td>2019-02-05 20:53:47</td>\n",
       "      <td>4</td>\n",
       "      <td>Hài lòng</td>\n",
       "      <td>NaN</td>\n",
       "    </tr>\n",
       "    <tr>\n",
       "      <th>353457</th>\n",
       "      <td>197311</td>\n",
       "      <td>10006543</td>\n",
       "      <td>Trần Thị  Phương Linh</td>\n",
       "      <td>Trần Thị  Phương Linh</td>\n",
       "      <td>NaN</td>\n",
       "      <td>5</td>\n",
       "      <td>Cực kì hài lòng</td>\n",
       "      <td>NaN</td>\n",
       "    </tr>\n",
       "  </tbody>\n",
       "</table>\n",
       "<p>671 rows × 8 columns</p>\n",
       "</div>"
      ],
      "text/plain": [
       "        customer_id  product_id                   name              full_name  \\\n",
       "16453       1109022    11607917       Nguyễn Hồng Quân       Nguyễn Hồng Quân   \n",
       "16454       6221399    11607917              Tuấn Phạm              Tuấn Phạm   \n",
       "16455        164450    11607917          Lê  Bình Minh          Lê  Bình Minh   \n",
       "16456      17984793    11607917               CHI VIET               CHI VIET   \n",
       "16457        206255    11607917         Bùi Thanh Hiền         Bùi Thanh Hiền   \n",
       "...             ...         ...                    ...                    ...   \n",
       "192249      6079274    12706787      Nguyễn trung hiếu                    NaN   \n",
       "192250      7474878    12706787               Mon Pham                    NaN   \n",
       "192251     13144258    12706787            Đỗ Đức Việt                    NaN   \n",
       "334471     10682172    75831435        Nguyễn Hữu Phan        Nguyễn Hữu Phan   \n",
       "353457       197311    10006543  Trần Thị  Phương Linh  Trần Thị  Phương Linh   \n",
       "\n",
       "               created_time  rating                title  \\\n",
       "16453                   NaN       5          Màn hình OK   \n",
       "16454                   NaN       5      Cực kì hài lòng   \n",
       "16455                   NaN       5             Hài lòng   \n",
       "16456   2020-08-04 17:25:21       5      Cực kì hài lòng   \n",
       "16457   2013-11-25 11:07:38       5      Cực kì hài lòng   \n",
       "...                     ...     ...                  ...   \n",
       "192249                  NaN       4  Hàng nghe mượt, tốt   \n",
       "192250                  NaN       5         Quá phê !!!!   \n",
       "192251                  NaN       5             Thắc mắc   \n",
       "334471  2019-02-05 20:53:47       4             Hài lòng   \n",
       "353457                  NaN       5      Cực kì hài lòng   \n",
       "\n",
       "                                                  content  \n",
       "16453   Tiki now giao đúng hẹn. Gói gọn cẩn thận. Cắm ...  \n",
       "16454   Good. Tuy rằng hơi hở sáng, hình như là bệnh c...  \n",
       "16455   Tiki giao hàng đóng gói cẩn thận. Màn hình hợp...  \n",
       "16456                                    Sản phẩm rất tốt  \n",
       "16457                                                 NaN  \n",
       "...                                                   ...  \n",
       "192249  Hàng chuẩn! Nhưng mình đang phân vân ko biết 1...  \n",
       "192250  Mong lần sau đừng giao hàng chậm nữa tháng như...  \n",
       "192251  Hàng nhập khẩu với hàng VNA khác nhau gì vậy T...  \n",
       "334471                                                NaN  \n",
       "353457                                                NaN  \n",
       "\n",
       "[671 rows x 8 columns]"
      ]
     },
     "execution_count": 30,
     "metadata": {},
     "output_type": "execute_result"
    }
   ],
   "source": [
    "# Backup and show\n",
    "not_existed= reviews[~reviews['product_id'].isin(products['item_id'])]\n",
    "not_existed"
   ]
  },
  {
   "cell_type": "code",
   "execution_count": 31,
   "id": "613ed86c",
   "metadata": {},
   "outputs": [],
   "source": [
    "# Chỉ giữ lại những dòng có chứa mã sản phẩm nằm trong file ProductRaw\n",
    "reviews = reviews[reviews['product_id'].isin(products['item_id'])]"
   ]
  },
  {
   "cell_type": "code",
   "execution_count": 32,
   "id": "3faae340",
   "metadata": {},
   "outputs": [
    {
     "data": {
      "text/plain": [
       "customer_id          0\n",
       "product_id           0\n",
       "name               430\n",
       "full_name        34161\n",
       "created_time    246108\n",
       "rating               0\n",
       "title               28\n",
       "content         198274\n",
       "dtype: int64"
      ]
     },
     "execution_count": 32,
     "metadata": {},
     "output_type": "execute_result"
    }
   ],
   "source": [
    "# Check NaN values\n",
    "reviews.isna().sum()"
   ]
  },
  {
   "cell_type": "code",
   "execution_count": 33,
   "id": "b8a10276",
   "metadata": {},
   "outputs": [
    {
     "data": {
      "text/html": [
       "<div>\n",
       "<style scoped>\n",
       "    .dataframe tbody tr th:only-of-type {\n",
       "        vertical-align: middle;\n",
       "    }\n",
       "\n",
       "    .dataframe tbody tr th {\n",
       "        vertical-align: top;\n",
       "    }\n",
       "\n",
       "    .dataframe thead th {\n",
       "        text-align: right;\n",
       "    }\n",
       "</style>\n",
       "<table border=\"1\" class=\"dataframe\">\n",
       "  <thead>\n",
       "    <tr style=\"text-align: right;\">\n",
       "      <th></th>\n",
       "      <th>customer_id</th>\n",
       "      <th>product_id</th>\n",
       "      <th>name</th>\n",
       "      <th>rating</th>\n",
       "      <th>title</th>\n",
       "    </tr>\n",
       "  </thead>\n",
       "  <tbody>\n",
       "    <tr>\n",
       "      <th>0</th>\n",
       "      <td>709310</td>\n",
       "      <td>10001012</td>\n",
       "      <td>Lân Nguyễn Hoàng</td>\n",
       "      <td>3</td>\n",
       "      <td>Ko dùng đc thẻ nhớ</td>\n",
       "    </tr>\n",
       "    <tr>\n",
       "      <th>1</th>\n",
       "      <td>10701688</td>\n",
       "      <td>10001012</td>\n",
       "      <td>Nguyễn Khánh Hòa</td>\n",
       "      <td>5</td>\n",
       "      <td>Cực kì hài lòng</td>\n",
       "    </tr>\n",
       "    <tr>\n",
       "      <th>2</th>\n",
       "      <td>11763074</td>\n",
       "      <td>10001012</td>\n",
       "      <td>Toàn Phạm Khánh</td>\n",
       "      <td>5</td>\n",
       "      <td>Cực kì hài lòng</td>\n",
       "    </tr>\n",
       "    <tr>\n",
       "      <th>3</th>\n",
       "      <td>9909549</td>\n",
       "      <td>10001012</td>\n",
       "      <td>Nguyen Quang Minh</td>\n",
       "      <td>5</td>\n",
       "      <td>Rất hài lòng</td>\n",
       "    </tr>\n",
       "    <tr>\n",
       "      <th>4</th>\n",
       "      <td>1827148</td>\n",
       "      <td>10001012</td>\n",
       "      <td>Phạm Bá Đức</td>\n",
       "      <td>5</td>\n",
       "      <td>Cực kì hài lòng</td>\n",
       "    </tr>\n",
       "  </tbody>\n",
       "</table>\n",
       "</div>"
      ],
      "text/plain": [
       "   customer_id  product_id               name  rating               title\n",
       "0       709310    10001012   Lân Nguyễn Hoàng       3  Ko dùng đc thẻ nhớ\n",
       "1     10701688    10001012   Nguyễn Khánh Hòa       5     Cực kì hài lòng\n",
       "2     11763074    10001012    Toàn Phạm Khánh       5     Cực kì hài lòng\n",
       "3      9909549    10001012  Nguyen Quang Minh       5        Rất hài lòng\n",
       "4      1827148    10001012        Phạm Bá Đức       5     Cực kì hài lòng"
      ]
     },
     "execution_count": 33,
     "metadata": {},
     "output_type": "execute_result"
    }
   ],
   "source": [
    "# các cột full_name, created_time và content có rất nhiều giá trị null\n",
    "# loại bỏ các cột này\n",
    "reviews = reviews.drop(['full_name', 'created_time', 'content'], axis=1)\n",
    "reviews.head()"
   ]
  },
  {
   "cell_type": "code",
   "execution_count": 34,
   "id": "eb0d8243",
   "metadata": {},
   "outputs": [
    {
     "data": {
      "text/plain": [
       "customer_id      0\n",
       "product_id       0\n",
       "name           430\n",
       "rating           0\n",
       "title           28\n",
       "dtype: int64"
      ]
     },
     "execution_count": 34,
     "metadata": {},
     "output_type": "execute_result"
    }
   ],
   "source": [
    "# Check NaN values\n",
    "reviews.isna().sum()"
   ]
  },
  {
   "cell_type": "code",
   "execution_count": 35,
   "id": "b6b4430c",
   "metadata": {},
   "outputs": [],
   "source": [
    "# loại bỏ các giá trị null còn lại\n",
    "reviews = reviews.dropna()"
   ]
  },
  {
   "cell_type": "code",
   "execution_count": 36,
   "id": "d4e9093c",
   "metadata": {},
   "outputs": [
    {
     "data": {
      "text/plain": [
       "customer_id    0\n",
       "product_id     0\n",
       "name           0\n",
       "rating         0\n",
       "title          0\n",
       "dtype: int64"
      ]
     },
     "execution_count": 36,
     "metadata": {},
     "output_type": "execute_result"
    }
   ],
   "source": [
    "reviews.isna().sum()"
   ]
  },
  {
   "cell_type": "code",
   "execution_count": 37,
   "id": "3600dd51",
   "metadata": {},
   "outputs": [
    {
     "data": {
      "text/plain": [
       "customer_id    0\n",
       "product_id     0\n",
       "name           0\n",
       "rating         0\n",
       "title          0\n",
       "dtype: int64"
      ]
     },
     "execution_count": 37,
     "metadata": {},
     "output_type": "execute_result"
    }
   ],
   "source": [
    "# Check Null values\n",
    "reviews.isnull().sum()"
   ]
  },
  {
   "cell_type": "code",
   "execution_count": 38,
   "id": "d9d93237",
   "metadata": {},
   "outputs": [
    {
     "data": {
      "text/plain": [
       "(362970, 5)"
      ]
     },
     "execution_count": 38,
     "metadata": {},
     "output_type": "execute_result"
    }
   ],
   "source": [
    "reviews.shape"
   ]
  },
  {
   "cell_type": "code",
   "execution_count": 39,
   "id": "8612f623",
   "metadata": {},
   "outputs": [
    {
     "data": {
      "text/plain": [
       "3721"
      ]
     },
     "execution_count": 39,
     "metadata": {},
     "output_type": "execute_result"
    }
   ],
   "source": [
    "# check duplicate\n",
    "reviews.duplicated().sum()"
   ]
  },
  {
   "cell_type": "code",
   "execution_count": 40,
   "id": "1139e6da",
   "metadata": {},
   "outputs": [],
   "source": [
    "# loại bỏ dữ liệu trùng\n",
    "reviews = reviews.drop_duplicates()"
   ]
  },
  {
   "cell_type": "code",
   "execution_count": 41,
   "id": "480963e8",
   "metadata": {},
   "outputs": [
    {
     "data": {
      "text/plain": [
       "0"
      ]
     },
     "execution_count": 41,
     "metadata": {},
     "output_type": "execute_result"
    }
   ],
   "source": [
    "reviews.duplicated().sum()"
   ]
  },
  {
   "cell_type": "markdown",
   "id": "1d40cb93",
   "metadata": {},
   "source": [
    "### Outliers"
   ]
  },
  {
   "cell_type": "code",
   "execution_count": 42,
   "id": "17064b06",
   "metadata": {},
   "outputs": [
    {
     "data": {
      "text/html": [
       "<div>\n",
       "<style scoped>\n",
       "    .dataframe tbody tr th:only-of-type {\n",
       "        vertical-align: middle;\n",
       "    }\n",
       "\n",
       "    .dataframe tbody tr th {\n",
       "        vertical-align: top;\n",
       "    }\n",
       "\n",
       "    .dataframe thead th {\n",
       "        text-align: right;\n",
       "    }\n",
       "</style>\n",
       "<table border=\"1\" class=\"dataframe\">\n",
       "  <thead>\n",
       "    <tr style=\"text-align: right;\">\n",
       "      <th></th>\n",
       "      <th>index</th>\n",
       "      <th>product_id</th>\n",
       "    </tr>\n",
       "  </thead>\n",
       "  <tbody>\n",
       "    <tr>\n",
       "      <th>0</th>\n",
       "      <td>299461</td>\n",
       "      <td>4664</td>\n",
       "    </tr>\n",
       "    <tr>\n",
       "      <th>1</th>\n",
       "      <td>1600005</td>\n",
       "      <td>2599</td>\n",
       "    </tr>\n",
       "    <tr>\n",
       "      <th>2</th>\n",
       "      <td>47321729</td>\n",
       "      <td>2409</td>\n",
       "    </tr>\n",
       "    <tr>\n",
       "      <th>3</th>\n",
       "      <td>405243</td>\n",
       "      <td>2305</td>\n",
       "    </tr>\n",
       "    <tr>\n",
       "      <th>4</th>\n",
       "      <td>8141868</td>\n",
       "      <td>2191</td>\n",
       "    </tr>\n",
       "    <tr>\n",
       "      <th>...</th>\n",
       "      <td>...</td>\n",
       "      <td>...</td>\n",
       "    </tr>\n",
       "    <tr>\n",
       "      <th>4206</th>\n",
       "      <td>73685012</td>\n",
       "      <td>1</td>\n",
       "    </tr>\n",
       "    <tr>\n",
       "      <th>4207</th>\n",
       "      <td>76103258</td>\n",
       "      <td>1</td>\n",
       "    </tr>\n",
       "    <tr>\n",
       "      <th>4208</th>\n",
       "      <td>76052568</td>\n",
       "      <td>1</td>\n",
       "    </tr>\n",
       "    <tr>\n",
       "      <th>4209</th>\n",
       "      <td>75982361</td>\n",
       "      <td>1</td>\n",
       "    </tr>\n",
       "    <tr>\n",
       "      <th>4210</th>\n",
       "      <td>20836264</td>\n",
       "      <td>1</td>\n",
       "    </tr>\n",
       "  </tbody>\n",
       "</table>\n",
       "<p>4211 rows × 2 columns</p>\n",
       "</div>"
      ],
      "text/plain": [
       "         index  product_id\n",
       "0       299461        4664\n",
       "1      1600005        2599\n",
       "2     47321729        2409\n",
       "3       405243        2305\n",
       "4      8141868        2191\n",
       "...        ...         ...\n",
       "4206  73685012           1\n",
       "4207  76103258           1\n",
       "4208  76052568           1\n",
       "4209  75982361           1\n",
       "4210  20836264           1\n",
       "\n",
       "[4211 rows x 2 columns]"
      ]
     },
     "execution_count": 42,
     "metadata": {},
     "output_type": "execute_result"
    }
   ],
   "source": [
    "rating_p = reviews['product_id'].value_counts().sort_values(ascending=False)\n",
    "rating_p = rating_p.reset_index()\n",
    "rating_p"
   ]
  },
  {
   "cell_type": "code",
   "execution_count": 43,
   "id": "3be2f065",
   "metadata": {},
   "outputs": [
    {
     "data": {
      "text/plain": [
       "<AxesSubplot: >"
      ]
     },
     "execution_count": 43,
     "metadata": {},
     "output_type": "execute_result"
    },
    {
     "data": {
      "image/png": "[encoded data removed]",
      "text/plain": [
       "<Figure size 640x480 with 1 Axes>"
      ]
     },
     "metadata": {},
     "output_type": "display_data"
    }
   ],
   "source": [
    "sns.boxplot(rating_p.product_id)"
   ]
  },
  {
   "cell_type": "code",
   "execution_count": 44,
   "id": "b6041a64",
   "metadata": {},
   "outputs": [
    {
     "data": {
      "text/plain": [
       "40"
      ]
     },
     "execution_count": 44,
     "metadata": {},
     "output_type": "execute_result"
    }
   ],
   "source": [
    "rating_p['index'][rating_p.product_id > 1000].count()"
   ]
  },
  {
   "cell_type": "markdown",
   "id": "1f955aec",
   "metadata": {},
   "source": [
    "**Nhận xét:**\n",
    "* Trong data Review có một số mã khách hàng có số lượng nhận xét rất cao, bất thường\n",
    "* Dựa vào phân bố của boxplot, xem xét loại những dữ liệu có số lượng rating lớn hơn 1000"
   ]
  },
  {
   "cell_type": "code",
   "execution_count": 45,
   "id": "b4e468bf",
   "metadata": {},
   "outputs": [],
   "source": [
    "reviews_new = reviews.groupby('product_id').filter(lambda x : len(x)<1000)"
   ]
  },
  {
   "cell_type": "code",
   "execution_count": 46,
   "id": "62d92721",
   "metadata": {},
   "outputs": [
    {
     "data": {
      "text/plain": [
       "554912      995\n",
       "51593115    993\n",
       "487524      984\n",
       "51884751    977\n",
       "7749111     976\n",
       "           ... \n",
       "71102068      1\n",
       "4727059       1\n",
       "1513667       1\n",
       "47516974      1\n",
       "73123059      1\n",
       "Name: product_id, Length: 4171, dtype: int64"
      ]
     },
     "execution_count": 46,
     "metadata": {},
     "output_type": "execute_result"
    }
   ],
   "source": [
    "reviews_new['product_id'].value_counts().sort_values(ascending=False)"
   ]
  },
  {
   "cell_type": "code",
   "execution_count": 47,
   "id": "ae251211",
   "metadata": {},
   "outputs": [
    {
     "data": {
      "text/plain": [
       "<AxesSubplot: >"
      ]
     },
     "execution_count": 47,
     "metadata": {},
     "output_type": "execute_result"
    },
    {
     "data": {
      "image/png": "[encoded data removed]",
      "text/plain": [
       "<Figure size 640x480 with 1 Axes>"
      ]
     },
     "metadata": {},
     "output_type": "display_data"
    }
   ],
   "source": [
    "sns.boxplot(reviews_new.product_id)"
   ]
  },
  {
   "cell_type": "code",
   "execution_count": 48,
   "id": "d315174d",
   "metadata": {},
   "outputs": [
    {
     "data": {
      "text/plain": [
       "(293121, 5)"
      ]
     },
     "execution_count": 48,
     "metadata": {},
     "output_type": "execute_result"
    }
   ],
   "source": [
    "reviews_new.shape"
   ]
  },
  {
   "cell_type": "code",
   "execution_count": 49,
   "id": "794067d3",
   "metadata": {},
   "outputs": [],
   "source": [
    "# # Save new file\n",
    "# reviews_new.to_csv('Reviews.csv', index= False)"
   ]
  },
  {
   "cell_type": "code",
   "execution_count": null,
   "id": "075209ed",
   "metadata": {},
   "outputs": [],
   "source": []
  }
 ],
 "metadata": {
  "kernelspec": {
   "display_name": "Python 3 (ipykernel)",
   "language": "python",
   "name": "python3"
  },
  "language_info": {
   "codemirror_mode": {
    "name": "ipython",
    "version": 3
   },
   "file_extension": ".py",
   "mimetype": "text/x-python",
   "name": "python",
   "nbconvert_exporter": "python",
   "pygments_lexer": "ipython3",
   "version": "3.9.16"
  }
 },
 "nbformat": 4,
 "nbformat_minor": 5
}
